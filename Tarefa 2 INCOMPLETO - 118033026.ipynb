{
 "cells": [
  {
   "cell_type": "markdown",
   "metadata": {},
   "source": [
    "Filipe Pierri de Mendonça Nobre - 118033026"
   ]
  },
  {
   "cell_type": "code",
   "execution_count": 1,
   "metadata": {},
   "outputs": [],
   "source": [
    "using Plots"
   ]
  },
  {
   "cell_type": "markdown",
   "metadata": {},
   "source": [
    "# 2.   Método de Newton"
   ]
  },
  {
   "cell_type": "markdown",
   "metadata": {},
   "source": [
    "Primeiramente, para fazermos as questões abaixo, precisaremos de uma implementação do Método de Newton. O código abaixo foi feito com base no vídeo do Abel sobre Zeros de Funções (https://www.youtube.com/watch?v=QI8mqz8FZEo&list=PLOOY0eChA1uyO7qjoupZ3979741csLLTE&index=6 - 1:11:26) (enviei este mesmo vídeo para Thales Macena e Daniel Rodrigues e discutimos sobre a 2.1)."
   ]
  },
  {
   "cell_type": "code",
   "execution_count": 7,
   "metadata": {},
   "outputs": [
    {
     "data": {
      "text/plain": [
       "newton (generic function with 1 method)"
      ]
     },
     "execution_count": 7,
     "metadata": {},
     "output_type": "execute_result"
    }
   ],
   "source": [
    "function newton(f, df, x)\n",
    "    \n",
    "    fx = f(x)\n",
    "    \n",
    "    # Determinam o erro máximo da aproximação, o tempo máximo do programa executando e num máximo de iterações\n",
    "    tempo_max = 25\n",
    "    iteracoes_max = 500\n",
    "    difmax = 10^(-14)\n",
    "    \n",
    "    # Checa se f(x) já está dentro da diferença esperada da aproximação\n",
    "    if abs(fx) <= difmax\n",
    "        return x, fx, :validado\n",
    "    end\n",
    "    \n",
    "    k = 0\n",
    "    t0 = time()\n",
    "    dt = time() - t0 #calcular o tempo de execucao\n",
    "    \n",
    "    exitflag = :inconclusivo\n",
    "    res = (abs(fx) <= difmax) # Se a aproximação já estiver nos conformes, marca res como true\n",
    "    tempo_esgotado = (k >= iteracoes_max || dt >= tempo_max) #Checa se atingiu o limite de tempo ou iterações\n",
    "    \n",
    "    while !(res || tempo_esgotado)\n",
    "        dfx = df(x) # Derivada\n",
    "        \n",
    "        if abs(dfx) <= difmax # Verifica se a derivada é nula\n",
    "            exitflag = :derivada_nula\n",
    "            break \n",
    "        end\n",
    "        \n",
    "        println(\"x: \", x, \" f(x): \", fx)\n",
    "        \n",
    "        x = x - fx / dfx # Método de Newton\n",
    "        fx = f(x)\n",
    "        \n",
    "        \n",
    "        k += 1 # Iterações\n",
    "        dt = time() - t0 # Tempo\n",
    "        res = (abs(fx) <= difmax)\n",
    "        tempo_esgotado = (k >= iteracoes_max || dt >= tempo_max)\n",
    "        if tempo_esgotado\n",
    "            exitflag = :tempo_esgotado\n",
    "        end\n",
    "        \n",
    "    end\n",
    "    \n",
    "    if res\n",
    "        exitflag = :validado\n",
    "    end\n",
    "    \n",
    "    println(\"Número de iterações: \", k)\n",
    "    return x, fx, exitflag\n",
    "    \n",
    "end"
   ]
  },
  {
   "cell_type": "markdown",
   "metadata": {},
   "source": [
    "### 2.1"
   ]
  },
  {
   "cell_type": "markdown",
   "metadata": {},
   "source": [
    "Para aproximarmos $\\sqrt[3]{43}$ com o Método de Newton-Raphson, é bem simples. Nós utilizamos o Método de Newton para encontrarmos aproximar raízes de funções, onde iteramos diversas vezes $x(k+1) = x(k) - \\frac{f(x(k))}{f'(x(k))}$ até achar um zero de uma função diferenciável $f(x)$. Neste caso, precisamos aplicar o método na função $f(x) = x^{{3}} - 43$ (afinal, se a ideia é não calcularmos diretamente a raiz cúbica de 43 na função, nos resta elevar $x$ à terceira potência e subtrair $43$ do resultado, assim encontraremos um x que será muito próximo de $\\sqrt[3]{43}$ quando ocorrer a última iteração, pois a diferença será muito próxima de zero)."
   ]
  },
  {
   "cell_type": "code",
   "execution_count": 25,
   "metadata": {},
   "outputs": [
    {
     "data": {
      "text/plain": [
       "df (generic function with 1 method)"
      ]
     },
     "execution_count": 25,
     "metadata": {},
     "output_type": "execute_result"
    }
   ],
   "source": [
    "# Teste básico com a função x² - 2 no ponto x = 1\n",
    "\n",
    "f(x) = ((x) ^ (3)) - 43\n",
    "df(x) = 3 * (x^(2))"
   ]
  },
  {
   "cell_type": "markdown",
   "metadata": {},
   "source": [
    "Por escolhermos tal função, um chute inicial problemático seria 0, pois a derivada seria nula na primeira iteração. Escolherei 3.5 como chute inicial, pois sabemos que a raiz cúbica de 43 tem de estar entre 3 e 4. Abaixo, vemos que a compilação com chhute inicial $x = 0$ não ocorreu da forma ideal:"
   ]
  },
  {
   "cell_type": "code",
   "execution_count": 18,
   "metadata": {},
   "outputs": [
    {
     "name": "stdout",
     "output_type": "stream",
     "text": [
      "Número de iterações: 0\n"
     ]
    },
    {
     "data": {
      "text/plain": [
       "(0, -43, :derivada_nula)"
      ]
     },
     "execution_count": 18,
     "metadata": {},
     "output_type": "execute_result"
    }
   ],
   "source": [
    "newton(f, df, 0)"
   ]
  },
  {
   "cell_type": "markdown",
   "metadata": {},
   "source": [
    "Com chute inicial $x=3$, obtivemos uma resposta bem próxima do que buscávamos:"
   ]
  },
  {
   "cell_type": "code",
   "execution_count": 26,
   "metadata": {},
   "outputs": [
    {
     "name": "stdout",
     "output_type": "stream",
     "text": [
      "x: 3.5 f(x): -0.125\n",
      "x: 3.503401360544218 f(x): 0.00012151651350222892\n",
      "x: 3.503398060389833 f(x): 1.1446843473095214e-10\n",
      "Número de iterações: 3\n"
     ]
    },
    {
     "data": {
      "text/plain": [
       "(3.5033980603867243, 7.105427357601002e-15, :validado)"
      ]
     },
     "execution_count": 26,
     "metadata": {},
     "output_type": "execute_result"
    }
   ],
   "source": [
    "newton(f, df, 3.5)"
   ]
  },
  {
   "cell_type": "markdown",
   "metadata": {},
   "source": [
    "### 2.2"
   ]
  },
  {
   "cell_type": "markdown",
   "metadata": {},
   "source": [
    "Olhemos atentamente em como funciona o Método de Newton-Raphson: \n",
    "$$x(k+1) = x(k) - \\frac{f(x(k))}{f'(x(k))}$$"
   ]
  },
  {
   "cell_type": "markdown",
   "metadata": {},
   "source": [
    "Nós queremos uma $f(x)$ de grau 2, ou seja, $f(x) = ax² + bx + c$, que quando $x(k)=1 → x(k+1)=2$ e quando $x(k)=2 → x(k+1)=1$, fazendo essa alternância. Vamos fazer as devidas substituições em x na expressão para obtermos os resultados, começando com $x(k)=1 → x(k+1)=2$:"
   ]
  },
  {
   "cell_type": "markdown",
   "metadata": {},
   "source": [
    "$$1 = 2 - \\frac{4a+2b+c}{4a + b}$$\n",
    "$$1 = \\frac{4a+2b+c}{4a + b}$$\n",
    "$$4a + b = 4a + 2b + c$$\n",
    "$$-b - c = 0$$\n",
    "$$-b = c$$"
   ]
  },
  {
   "cell_type": "markdown",
   "metadata": {},
   "source": [
    "Agora iremos fazer as substituições quando $x(k)=2 → x(k+1)=1$:"
   ]
  },
  {
   "cell_type": "markdown",
   "metadata": {},
   "source": [
    "$$2 = 1 - \\frac{a+b+c}{2a + b}$$\n",
    "$$1 = -\\frac{a+b+c}{2a + b}$$\n",
    "$$2a + b = -a - b - c$$\n",
    "$$3a = - 2b - c$$\n",
    "$$a = \\frac{-2b-c}{3}$$"
   ]
  },
  {
   "cell_type": "markdown",
   "metadata": {},
   "source": [
    "Juntando com o que obtivemos na expressão anterior, teremos:"
   ]
  },
  {
   "cell_type": "markdown",
   "metadata": {},
   "source": [
    "$$a = \\frac{-2b-c}{3}$$\n",
    "$$-b = c$$\n",
    "\n",
    "$$↓↓↓↓↓$$\n",
    "\n",
    "$$a = \\frac{2c-c}{3}$$\n",
    "$$a = \\frac{c}{3}$$"
   ]
  },
  {
   "cell_type": "markdown",
   "metadata": {},
   "source": [
    "Perceba que existem infinitas soluções para esse problema, desde que respeitemos as relações encontradas."
   ]
  },
  {
   "cell_type": "markdown",
   "metadata": {},
   "source": [
    "Escolhi como solução para este problema a função:\n",
    " $$f(x) = {x²} -3x + 3$$"
   ]
  },
  {
   "cell_type": "markdown",
   "metadata": {},
   "source": [
    "# Método de Taylor"
   ]
  },
  {
   "cell_type": "markdown",
   "metadata": {},
   "source": [
    "### 4.1"
   ]
  },
  {
   "cell_type": "markdown",
   "metadata": {},
   "source": [
    "Queremos provar que, se $a \\approx x$, então $ \\frac {f(x)-f(a)}{x-a} \\approx f´(a)$. Ele quer que nós calculemos o erro (ou teto) dessa aproximação usando Taylor de Ordem 1. Ou seja, precisamos manipular algebricamente o Taylor de Ordem 1 para chegarmos no erro que estamos buscando na equacão $ f´(a) - \\frac {f(x)-f(a)}{x-a} \\leq Teto $:"
   ]
  },
  {
   "cell_type": "markdown",
   "metadata": {},
   "source": [
    "$$f(x) - (f(a) + f´(a)(x-a)) \\leq \\frac{M(x-a)^2}{2}$$"
   ]
  },
  {
   "cell_type": "markdown",
   "metadata": {},
   "source": [
    "1.Tiramos os parênteses"
   ]
  },
  {
   "cell_type": "markdown",
   "metadata": {},
   "source": [
    "$$f(x) - f(a) - f´(a)(x-a) \\leq \\frac{M(x-a)^2}{2}$$"
   ]
  },
  {
   "cell_type": "markdown",
   "metadata": {},
   "source": [
    "2.Multiplicamos por -1"
   ]
  },
  {
   "cell_type": "markdown",
   "metadata": {},
   "source": [
    "$$f´(a)(x-a) - (f(x) - f(a)) \\leq \\frac{-M(x-a)^2}{2}$$"
   ]
  },
  {
   "cell_type": "markdown",
   "metadata": {},
   "source": [
    "3.Dividimos por (x-a)"
   ]
  },
  {
   "cell_type": "markdown",
   "metadata": {},
   "source": [
    "$$f´(a) - \\frac{(f(x) - f(a))}{x-a} \\leq \\frac{-M(x-a)}{2}$$"
   ]
  },
  {
   "cell_type": "markdown",
   "metadata": {},
   "source": [
    "E voalait!\n"
   ]
  },
  {
   "cell_type": "markdown",
   "metadata": {},
   "source": [
    "### 4.2"
   ]
  },
  {
   "cell_type": "markdown",
   "metadata": {},
   "source": [
    "Para conseguirmos aproximar $sen(0.01)$ com erro menor que $10^{-6}$ por meio do Método de Taylor, precisamos que a \"cota superior do erro\" (a parte com o M) seja menor que $10^{-6}$. Implementaremos primeiro uma função para calcular essa cota e determinarmos a ordem do Polinômio de Taylor que precisaremos calcular."
   ]
  },
  {
   "cell_type": "code",
   "execution_count": 1,
   "metadata": {},
   "outputs": [
    {
     "data": {
      "text/plain": [
       "taylorM (generic function with 1 method)"
      ]
     },
     "execution_count": 1,
     "metadata": {},
     "output_type": "execute_result"
    }
   ],
   "source": [
    "function taylorM(x, a, m, min)\n",
    "    i=1\n",
    "    erro=(m*(x-a))/i\n",
    "    while (erro > min)\n",
    "        i= i+1\n",
    "        erro = erro*((x-a)/i)\n",
    "    end\n",
    "    println(\"Ordem: \", i-1)\n",
    "    return erro\n",
    "end"
   ]
  },
  {
   "cell_type": "markdown",
   "metadata": {},
   "source": [
    "Escolhi $a=0$ pois é muito próximo de $0.01$, e sabemos de cabeça o seno e cosseno de $0$ (fora facilitar nossas contas). O M deve ser 1 pois é o valor máximo que um seno ou cosseno pode atingir."
   ]
  },
  {
   "cell_type": "code",
   "execution_count": 2,
   "metadata": {},
   "outputs": [
    {
     "name": "stdout",
     "output_type": "stream",
     "text": [
      "Ordem: 2\n"
     ]
    },
    {
     "data": {
      "text/plain": [
       "1.6666666666666668e-7"
      ]
     },
     "execution_count": 2,
     "metadata": {},
     "output_type": "execute_result"
    }
   ],
   "source": [
    "taylorM(0.01, 0, 1, 10^(-6))"
   ]
  },
  {
   "cell_type": "markdown",
   "metadata": {},
   "source": [
    "Como $Pn(x)$ é maior que $f(x)$ (afinal, é um módulo a subtração), devemos subtrair a margem de erro de $Pn(x)$ para encontrar um valor aproximado de $f(x)$"
   ]
  },
  {
   "cell_type": "code",
   "execution_count": 48,
   "metadata": {},
   "outputs": [
    {
     "data": {
      "text/plain": [
       "0.009999833333333333"
      ]
     },
     "execution_count": 48,
     "metadata": {},
     "output_type": "execute_result"
    }
   ],
   "source": [
    "(((0.01-0)^2)*((-sin(0))/(2))+(0.01-0)*cos(0)+sin(0)) - 1.6666666666666668e-7"
   ]
  },
  {
   "cell_type": "markdown",
   "metadata": {},
   "source": [
    "Ao compararmos com o valor com a função sin para 0.01, vemos que o erro foi realmente menor que $10^{-6}$"
   ]
  },
  {
   "cell_type": "code",
   "execution_count": 28,
   "metadata": {},
   "outputs": [
    {
     "data": {
      "text/plain": [
       "0.009999833334166664"
      ]
     },
     "execution_count": 28,
     "metadata": {},
     "output_type": "execute_result"
    }
   ],
   "source": [
    "sin(0.01)"
   ]
  },
  {
   "cell_type": "markdown",
   "metadata": {},
   "source": [
    "### 4.3"
   ]
  },
  {
   "cell_type": "markdown",
   "metadata": {},
   "source": [
    "Apenas dizer \"pois o quão mais próximo de zero é o x, o valor de seu seno é praticamente o valor de x\" não é o tipo de resposta que nós, como alunos de Cálculo Numérico, buscamos dar em nossas respostas. Felizmente, o Método de Taylor nos ajuda a compreender o que ocorre, e temos o exemplo da questão anterior para nos ajudar. Quando o valor de x é muito próximo de 0, devemos utilizar $a=0$ e $M=1$, pelos motivos já especificados na questão anterior. O que ocorre é que o quão maior for a ordem do Polinômio de Taylor, cada vez mais a \"cota superior do erro\" tenderá a zero, possuindo valores ridiculamente baixos. Em contrapartida, o valor do $Pn(x)$ dá um valor igual ou muito próximo do valor de x, e algo importante a ressaltar é que todos os termos do polinômio que possuem seno acabam sendo zerados. Se $Pn(x) \\approx x$ e $f(x) - Pn(x) \\approx 0$, conseguimos concluir que $f(x) \\approx Pn(x) \\approx x \\approx sin(x)$. É bom sabermos o quão bom é utilizar o Teorema de Taylor para aproximar senos próximos de zero!"
   ]
  },
  {
   "cell_type": "markdown",
   "metadata": {},
   "source": [
    "### 4.4\n"
   ]
  },
  {
   "cell_type": "markdown",
   "metadata": {},
   "source": [
    "Primeiramente, iremos só calcular a aproximação em Taylor de ordem 3. Ou seja, $f(a) + f'(a)(x-a)+ f''(a)/2 * (x-a)^2 + f'''(a)/6 + (x-a)^3$. Ele nos pede para utilizar $a=1$ e o nosso $x$ é igual a $1.5$"
   ]
  },
  {
   "cell_type": "code",
   "execution_count": 6,
   "metadata": {},
   "outputs": [
    {
     "data": {
      "text/plain": [
       "0.4166666666666667"
      ]
     },
     "execution_count": 6,
     "metadata": {},
     "output_type": "execute_result"
    }
   ],
   "source": [
    "0 + (0.5 * 1) + ((-1/2) * (0.5 ^ 2)) + ((2/6) * (0.5 ^ 3))"
   ]
  },
  {
   "cell_type": "markdown",
   "metadata": {},
   "source": [
    "Beleza, mas o que conseguimos com isso? Temos uma aproximação, mas como saberemos o erro em relação ao $f(1.5)$ sem poder utilizar a função $log(1.5)$? Bom, se o Taylor é de ordem 3, podemos estipular o valor de M graças a uma relação muito bacana: $f^{n+1}(x) \\leq M$. Sabemos que $ln''''(x) = -6/x^4$, e como utilizamos o módulo, com $a=1$, seguramente podemos afirmar que o $M$ não poderá ultrapassar o valor $6$. Assim, iremos calcular o lado do M da desigualdade com M=6, e assim descobrir o número de casas que estão iguais."
   ]
  },
  {
   "cell_type": "code",
   "execution_count": 5,
   "metadata": {},
   "outputs": [
    {
     "data": {
      "text/plain": [
       "taylorM2 (generic function with 1 method)"
      ]
     },
     "execution_count": 5,
     "metadata": {},
     "output_type": "execute_result"
    }
   ],
   "source": [
    "function taylorM2(x, a, m, order)\n",
    "  i=1\n",
    "  erro=(m*(x-a))/i\n",
    "  while (i < (order+1))\n",
    "      i= i+1\n",
    "      erro = erro*((x-a)/i)\n",
    "  end\n",
    "  println(\"Ordem: \", i-1)\n",
    "  return erro\n",
    "end"
   ]
  },
  {
   "cell_type": "code",
   "execution_count": 13,
   "metadata": {},
   "outputs": [
    {
     "name": "stdout",
     "output_type": "stream",
     "text": [
      "Ordem: 3\n"
     ]
    },
    {
     "data": {
      "text/plain": [
       "0.015625"
      ]
     },
     "execution_count": 13,
     "metadata": {},
     "output_type": "execute_result"
    }
   ],
   "source": [
    "taylorM2(1.5, 1, 6, 3)"
   ]
  },
  {
   "cell_type": "markdown",
   "metadata": {},
   "source": [
    "Vemos que acertamos apenas dois dígitos com Taylor de Ordem 3. Agora que chegamos na última pergunta da questão, devo dizer que ela é mais complicadinha. O motivo é o seguinte: com a relação $f^{n+1}(x) \\leq M$, não podemos simplesmente utilizar $M=6$. Terei de atualizar o M também a cada iteração para que tenhamos um resultado correto. Mas consegui, então para que tenhamos um erro menor que $10^{-8}$, a ordem de Taylor deve ser..."
   ]
  },
  {
   "cell_type": "code",
   "execution_count": 11,
   "metadata": {},
   "outputs": [
    {
     "data": {
      "text/plain": [
       "taylorM3 (generic function with 1 method)"
      ]
     },
     "execution_count": 11,
     "metadata": {},
     "output_type": "execute_result"
    }
   ],
   "source": [
    "function taylorM3(x, a, min)\n",
    "  i=1\n",
    "  m=1/a #valor absoluto\n",
    "  erro=(m*(x-a))/i\n",
    "  while (erro > min)\n",
    "      i= i+1\n",
    "      erro = erro*((x-a)/i)*((i-1)/a)\n",
    "  end\n",
    "  println(\"Ordem: \", i-1)\n",
    "  return erro\n",
    "end"
   ]
  },
  {
   "cell_type": "code",
   "execution_count": 12,
   "metadata": {},
   "outputs": [
    {
     "name": "stdout",
     "output_type": "stream",
     "text": [
      "Ordem: 22"
     ]
    },
    {
     "data": {
      "text/plain": [
       "5.183012589164403e-9"
      ]
     },
     "execution_count": 12,
     "metadata": {},
     "output_type": "execute_result"
    },
    {
     "name": "stdout",
     "output_type": "stream",
     "text": [
      "\n"
     ]
    }
   ],
   "source": [
    "taylorM3(1.5, 1, 10^(-8))"
   ]
  },
  {
   "cell_type": "markdown",
   "metadata": {},
   "source": [
    "SIM. 22. Ainda bem que automatizamos o cálculo, pois imagine fazer essa conta na mão..."
   ]
  },
  {
   "cell_type": "markdown",
   "metadata": {},
   "source": [
    "### 4.5"
   ]
  },
  {
   "cell_type": "markdown",
   "metadata": {},
   "source": [
    "### 4.6"
   ]
  },
  {
   "cell_type": "markdown",
   "metadata": {},
   "source": [
    "Com o Teorema de Taylor, podemos obter o polinômio de Taylor para o seno, e assim podemos nos poupar de utilizar a série de L'Hospital. Assim sendo:\n",
    "\n",
    "Este é o limite que nós temos:\n",
    "\n",
    "$$\\lim _{x\\to 0}\\left(\\frac{\\left(sin\\left(x\\right)-x\\right)}{x^3}\\right)$$\n",
    "\n",
    "Agora substituímos o seno pelo polinômio de Taylor, que facilitará nossas contas:\n",
    "\n",
    "$$\\lim _{x\\to 0}\\left(\\frac{\\left(x - (\\frac{x^3}{3!}) + (\\frac{x^5}{5!}) ...-x\\right)}{x^3}\\right)$$\n",
    "\n",
    "Está vendo que trouxemos um $x$ como primeiro termo do polinômio? Iremos agora subtraílo com o x que tínhhamos já na expressão:\n",
    "\n",
    "$$\\lim _{x\\to 0}\\left(\\frac{\\frac{-x^3}{3!} + \\frac{x^5}{5!} ...}{x^3}\\right)$$\n",
    "\n",
    "Agora iremos dividir todos os termos por $x^3$, e assim remover o denominador ali de baixo $x^3$:\n",
    "\n",
    "$$\\lim _{x\\to 0}\\left(\\frac{-1}{3!} + \\frac{x^2}{5!} +...\\right)$$\n",
    "\n",
    "Finalmente, podemos agora aplicar o limite de $x\\to 0$ e nos livrar de todas as expressões com x:\n",
    "\n",
    "$$\\frac{-1}{3!}$$\n",
    "\n",
    "Calculando $3!$, temos o limite da questão:\n",
    "\n",
    "$$\\frac{-1}{6}$$"
   ]
  },
  {
   "cell_type": "markdown",
   "metadata": {},
   "source": [
    "### 4.7"
   ]
  },
  {
   "cell_type": "code",
   "execution_count": 3,
   "metadata": {},
   "outputs": [
    {
     "data": {
      "image/svg+xml": "<?xml version=\"1.0\" encoding=\"utf-8\"?>\n<svg xmlns=\"http://www.w3.org/2000/svg\" xmlns:xlink=\"http://www.w3.org/1999/xlink\" width=\"600\" height=\"400\" viewBox=\"0 0 2400 1600\">\n<defs>\n  <clipPath id=\"clip820\">\n    <rect x=\"0\" y=\"0\" width=\"2400\" height=\"1600\"/>\n  </clipPath>\n</defs>\n<path clip-path=\"url(#clip820)\" d=\"\nM0 1600 L2400 1600 L2400 0 L0 0  Z\n  \" fill=\"#ffffff\" fill-rule=\"evenodd\" fill-opacity=\"1\"/>\n<defs>\n  <clipPath id=\"clip821\">\n    <rect x=\"480\" y=\"0\" width=\"1681\" height=\"1600\"/>\n  </clipPath>\n</defs>\n<path clip-path=\"url(#clip820)\" d=\"\nM178.867 1486.45 L2352.76 1486.45 L2352.76 47.2441 L178.867 47.2441  Z\n  \" fill=\"#ffffff\" fill-rule=\"evenodd\" fill-opacity=\"1\"/>\n<defs>\n  <clipPath id=\"clip822\">\n    <rect x=\"178\" y=\"47\" width=\"2175\" height=\"1440\"/>\n  </clipPath>\n</defs>\n<polyline clip-path=\"url(#clip822)\" style=\"stroke:#000000; stroke-linecap:butt; stroke-linejoin:round; stroke-width:2; stroke-opacity:0.1; fill:none\" points=\"\n  396.256,1486.45 396.256,47.2441 \n  \"/>\n<polyline clip-path=\"url(#clip822)\" style=\"stroke:#000000; stroke-linecap:butt; stroke-linejoin:round; stroke-width:2; stroke-opacity:0.1; fill:none\" points=\"\n  831.033,1486.45 831.033,47.2441 \n  \"/>\n<polyline clip-path=\"url(#clip822)\" style=\"stroke:#000000; stroke-linecap:butt; stroke-linejoin:round; stroke-width:2; stroke-opacity:0.1; fill:none\" points=\"\n  1265.81,1486.45 1265.81,47.2441 \n  \"/>\n<polyline clip-path=\"url(#clip822)\" style=\"stroke:#000000; stroke-linecap:butt; stroke-linejoin:round; stroke-width:2; stroke-opacity:0.1; fill:none\" points=\"\n  1700.59,1486.45 1700.59,47.2441 \n  \"/>\n<polyline clip-path=\"url(#clip822)\" style=\"stroke:#000000; stroke-linecap:butt; stroke-linejoin:round; stroke-width:2; stroke-opacity:0.1; fill:none\" points=\"\n  2135.37,1486.45 2135.37,47.2441 \n  \"/>\n<polyline clip-path=\"url(#clip820)\" style=\"stroke:#000000; stroke-linecap:butt; stroke-linejoin:round; stroke-width:4; stroke-opacity:1; fill:none\" points=\"\n  178.867,1486.45 2352.76,1486.45 \n  \"/>\n<polyline clip-path=\"url(#clip820)\" style=\"stroke:#000000; stroke-linecap:butt; stroke-linejoin:round; stroke-width:4; stroke-opacity:1; fill:none\" points=\"\n  396.256,1486.45 396.256,1467.55 \n  \"/>\n<polyline clip-path=\"url(#clip820)\" style=\"stroke:#000000; stroke-linecap:butt; stroke-linejoin:round; stroke-width:4; stroke-opacity:1; fill:none\" points=\"\n  831.033,1486.45 831.033,1467.55 \n  \"/>\n<polyline clip-path=\"url(#clip820)\" style=\"stroke:#000000; stroke-linecap:butt; stroke-linejoin:round; stroke-width:4; stroke-opacity:1; fill:none\" points=\"\n  1265.81,1486.45 1265.81,1467.55 \n  \"/>\n<polyline clip-path=\"url(#clip820)\" style=\"stroke:#000000; stroke-linecap:butt; stroke-linejoin:round; stroke-width:4; stroke-opacity:1; fill:none\" points=\"\n  1700.59,1486.45 1700.59,1467.55 \n  \"/>\n<polyline clip-path=\"url(#clip820)\" style=\"stroke:#000000; stroke-linecap:butt; stroke-linejoin:round; stroke-width:4; stroke-opacity:1; fill:none\" points=\"\n  2135.37,1486.45 2135.37,1467.55 \n  \"/>\n<path clip-path=\"url(#clip820)\" d=\"M350.318 1532.02 L379.994 1532.02 L379.994 1535.95 L350.318 1535.95 L350.318 1532.02 Z\" fill=\"#000000\" fill-rule=\"evenodd\" fill-opacity=\"1\" /><path clip-path=\"url(#clip820)\" d=\"M394.114 1544.91 L410.434 1544.91 L410.434 1548.85 L388.489 1548.85 L388.489 1544.91 Q391.151 1542.16 395.735 1537.53 Q400.341 1532.88 401.522 1531.53 Q403.767 1529.01 404.647 1527.27 Q405.549 1525.51 405.549 1523.82 Q405.549 1521.07 403.605 1519.33 Q401.684 1517.6 398.582 1517.6 Q396.383 1517.6 393.929 1518.36 Q391.499 1519.13 388.721 1520.68 L388.721 1515.95 Q391.545 1514.82 393.999 1514.24 Q396.452 1513.66 398.489 1513.66 Q403.86 1513.66 407.054 1516.35 Q410.249 1519.03 410.249 1523.52 Q410.249 1525.65 409.438 1527.57 Q408.651 1529.47 406.545 1532.07 Q405.966 1532.74 402.864 1535.95 Q399.762 1539.15 394.114 1544.91 Z\" fill=\"#000000\" fill-rule=\"evenodd\" fill-opacity=\"1\" /><path clip-path=\"url(#clip820)\" d=\"M430.248 1517.37 Q426.637 1517.37 424.809 1520.93 Q423.003 1524.47 423.003 1531.6 Q423.003 1538.71 424.809 1542.27 Q426.637 1545.82 430.248 1545.82 Q433.883 1545.82 435.688 1542.27 Q437.517 1538.71 437.517 1531.6 Q437.517 1524.47 435.688 1520.93 Q433.883 1517.37 430.248 1517.37 M430.248 1513.66 Q436.059 1513.66 439.114 1518.27 Q442.193 1522.85 442.193 1531.6 Q442.193 1540.33 439.114 1544.94 Q436.059 1549.52 430.248 1549.52 Q424.438 1549.52 421.36 1544.94 Q418.304 1540.33 418.304 1531.6 Q418.304 1522.85 421.36 1518.27 Q424.438 1513.66 430.248 1513.66 Z\" fill=\"#000000\" fill-rule=\"evenodd\" fill-opacity=\"1\" /><path clip-path=\"url(#clip820)\" d=\"M785.096 1532.02 L814.772 1532.02 L814.772 1535.95 L785.096 1535.95 L785.096 1532.02 Z\" fill=\"#000000\" fill-rule=\"evenodd\" fill-opacity=\"1\" /><path clip-path=\"url(#clip820)\" d=\"M825.675 1544.91 L833.313 1544.91 L833.313 1518.55 L825.003 1520.21 L825.003 1515.95 L833.267 1514.29 L837.943 1514.29 L837.943 1544.91 L845.582 1544.91 L845.582 1548.85 L825.675 1548.85 L825.675 1544.91 Z\" fill=\"#000000\" fill-rule=\"evenodd\" fill-opacity=\"1\" /><path clip-path=\"url(#clip820)\" d=\"M865.026 1517.37 Q861.415 1517.37 859.587 1520.93 Q857.781 1524.47 857.781 1531.6 Q857.781 1538.71 859.587 1542.27 Q861.415 1545.82 865.026 1545.82 Q868.661 1545.82 870.466 1542.27 Q872.295 1538.71 872.295 1531.6 Q872.295 1524.47 870.466 1520.93 Q868.661 1517.37 865.026 1517.37 M865.026 1513.66 Q870.836 1513.66 873.892 1518.27 Q876.971 1522.85 876.971 1531.6 Q876.971 1540.33 873.892 1544.94 Q870.836 1549.52 865.026 1549.52 Q859.216 1549.52 856.137 1544.94 Q853.082 1540.33 853.082 1531.6 Q853.082 1522.85 856.137 1518.27 Q859.216 1513.66 865.026 1513.66 Z\" fill=\"#000000\" fill-rule=\"evenodd\" fill-opacity=\"1\" /><path clip-path=\"url(#clip820)\" d=\"M1265.81 1517.37 Q1262.2 1517.37 1260.37 1520.93 Q1258.57 1524.47 1258.57 1531.6 Q1258.57 1538.71 1260.37 1542.27 Q1262.2 1545.82 1265.81 1545.82 Q1269.45 1545.82 1271.25 1542.27 Q1273.08 1538.71 1273.08 1531.6 Q1273.08 1524.47 1271.25 1520.93 Q1269.45 1517.37 1265.81 1517.37 M1265.81 1513.66 Q1271.62 1513.66 1274.68 1518.27 Q1277.76 1522.85 1277.76 1531.6 Q1277.76 1540.33 1274.68 1544.94 Q1271.62 1549.52 1265.81 1549.52 Q1260 1549.52 1256.92 1544.94 Q1253.87 1540.33 1253.87 1531.6 Q1253.87 1522.85 1256.92 1518.27 Q1260 1513.66 1265.81 1513.66 Z\" fill=\"#000000\" fill-rule=\"evenodd\" fill-opacity=\"1\" /><path clip-path=\"url(#clip820)\" d=\"M1675.28 1544.91 L1682.92 1544.91 L1682.92 1518.55 L1674.61 1520.21 L1674.61 1515.95 L1682.87 1514.29 L1687.55 1514.29 L1687.55 1544.91 L1695.18 1544.91 L1695.18 1548.85 L1675.28 1548.85 L1675.28 1544.91 Z\" fill=\"#000000\" fill-rule=\"evenodd\" fill-opacity=\"1\" /><path clip-path=\"url(#clip820)\" d=\"M1714.63 1517.37 Q1711.02 1517.37 1709.19 1520.93 Q1707.38 1524.47 1707.38 1531.6 Q1707.38 1538.71 1709.19 1542.27 Q1711.02 1545.82 1714.63 1545.82 Q1718.26 1545.82 1720.07 1542.27 Q1721.9 1538.71 1721.9 1531.6 Q1721.9 1524.47 1720.07 1520.93 Q1718.26 1517.37 1714.63 1517.37 M1714.63 1513.66 Q1720.44 1513.66 1723.49 1518.27 Q1726.57 1522.85 1726.57 1531.6 Q1726.57 1540.33 1723.49 1544.94 Q1720.44 1549.52 1714.63 1549.52 Q1708.82 1549.52 1705.74 1544.94 Q1702.68 1540.33 1702.68 1531.6 Q1702.68 1522.85 1705.74 1518.27 Q1708.82 1513.66 1714.63 1513.66 Z\" fill=\"#000000\" fill-rule=\"evenodd\" fill-opacity=\"1\" /><path clip-path=\"url(#clip820)\" d=\"M2114.14 1544.91 L2130.46 1544.91 L2130.46 1548.85 L2108.52 1548.85 L2108.52 1544.91 Q2111.18 1542.16 2115.76 1537.53 Q2120.37 1532.88 2121.55 1531.53 Q2123.79 1529.01 2124.67 1527.27 Q2125.58 1525.51 2125.58 1523.82 Q2125.58 1521.07 2123.63 1519.33 Q2121.71 1517.6 2118.61 1517.6 Q2116.41 1517.6 2113.96 1518.36 Q2111.52 1519.13 2108.75 1520.68 L2108.75 1515.95 Q2111.57 1514.82 2114.02 1514.24 Q2116.48 1513.66 2118.52 1513.66 Q2123.89 1513.66 2127.08 1516.35 Q2130.27 1519.03 2130.27 1523.52 Q2130.27 1525.65 2129.46 1527.57 Q2128.68 1529.47 2126.57 1532.07 Q2125.99 1532.74 2122.89 1535.95 Q2119.79 1539.15 2114.14 1544.91 Z\" fill=\"#000000\" fill-rule=\"evenodd\" fill-opacity=\"1\" /><path clip-path=\"url(#clip820)\" d=\"M2150.27 1517.37 Q2146.66 1517.37 2144.83 1520.93 Q2143.03 1524.47 2143.03 1531.6 Q2143.03 1538.71 2144.83 1542.27 Q2146.66 1545.82 2150.27 1545.82 Q2153.91 1545.82 2155.71 1542.27 Q2157.54 1538.71 2157.54 1531.6 Q2157.54 1524.47 2155.71 1520.93 Q2153.91 1517.37 2150.27 1517.37 M2150.27 1513.66 Q2156.08 1513.66 2159.14 1518.27 Q2162.22 1522.85 2162.22 1531.6 Q2162.22 1540.33 2159.14 1544.94 Q2156.08 1549.52 2150.27 1549.52 Q2144.46 1549.52 2141.39 1544.94 Q2138.33 1540.33 2138.33 1531.6 Q2138.33 1522.85 2141.39 1518.27 Q2144.46 1513.66 2150.27 1513.66 Z\" fill=\"#000000\" fill-rule=\"evenodd\" fill-opacity=\"1\" /><polyline clip-path=\"url(#clip822)\" style=\"stroke:#000000; stroke-linecap:butt; stroke-linejoin:round; stroke-width:2; stroke-opacity:0.1; fill:none\" points=\"\n  178.867,1342.53 2352.76,1342.53 \n  \"/>\n<polyline clip-path=\"url(#clip822)\" style=\"stroke:#000000; stroke-linecap:butt; stroke-linejoin:round; stroke-width:2; stroke-opacity:0.1; fill:none\" points=\"\n  178.867,1054.69 2352.76,1054.69 \n  \"/>\n<polyline clip-path=\"url(#clip822)\" style=\"stroke:#000000; stroke-linecap:butt; stroke-linejoin:round; stroke-width:2; stroke-opacity:0.1; fill:none\" points=\"\n  178.867,766.846 2352.76,766.846 \n  \"/>\n<polyline clip-path=\"url(#clip822)\" style=\"stroke:#000000; stroke-linecap:butt; stroke-linejoin:round; stroke-width:2; stroke-opacity:0.1; fill:none\" points=\"\n  178.867,479.005 2352.76,479.005 \n  \"/>\n<polyline clip-path=\"url(#clip822)\" style=\"stroke:#000000; stroke-linecap:butt; stroke-linejoin:round; stroke-width:2; stroke-opacity:0.1; fill:none\" points=\"\n  178.867,191.164 2352.76,191.164 \n  \"/>\n<polyline clip-path=\"url(#clip820)\" style=\"stroke:#000000; stroke-linecap:butt; stroke-linejoin:round; stroke-width:4; stroke-opacity:1; fill:none\" points=\"\n  178.867,1486.45 178.867,47.2441 \n  \"/>\n<polyline clip-path=\"url(#clip820)\" style=\"stroke:#000000; stroke-linecap:butt; stroke-linejoin:round; stroke-width:4; stroke-opacity:1; fill:none\" points=\"\n  178.867,1342.53 197.764,1342.53 \n  \"/>\n<polyline clip-path=\"url(#clip820)\" style=\"stroke:#000000; stroke-linecap:butt; stroke-linejoin:round; stroke-width:4; stroke-opacity:1; fill:none\" points=\"\n  178.867,1054.69 197.764,1054.69 \n  \"/>\n<polyline clip-path=\"url(#clip820)\" style=\"stroke:#000000; stroke-linecap:butt; stroke-linejoin:round; stroke-width:4; stroke-opacity:1; fill:none\" points=\"\n  178.867,766.846 197.764,766.846 \n  \"/>\n<polyline clip-path=\"url(#clip820)\" style=\"stroke:#000000; stroke-linecap:butt; stroke-linejoin:round; stroke-width:4; stroke-opacity:1; fill:none\" points=\"\n  178.867,479.005 197.764,479.005 \n  \"/>\n<polyline clip-path=\"url(#clip820)\" style=\"stroke:#000000; stroke-linecap:butt; stroke-linejoin:round; stroke-width:4; stroke-opacity:1; fill:none\" points=\"\n  178.867,191.164 197.764,191.164 \n  \"/>\n<path clip-path=\"url(#clip820)\" d=\"M50.9921 1342.98 L80.6679 1342.98 L80.6679 1346.91 L50.9921 1346.91 L50.9921 1342.98 Z\" fill=\"#000000\" fill-rule=\"evenodd\" fill-opacity=\"1\" /><path clip-path=\"url(#clip820)\" d=\"M94.7882 1355.87 L111.108 1355.87 L111.108 1359.81 L89.1632 1359.81 L89.1632 1355.87 Q91.8252 1353.12 96.4085 1348.49 Q101.015 1343.84 102.196 1342.49 Q104.441 1339.97 105.321 1338.23 Q106.223 1336.47 106.223 1334.78 Q106.223 1332.03 104.279 1330.29 Q102.358 1328.56 99.2558 1328.56 Q97.0567 1328.56 94.603 1329.32 Q92.1725 1330.09 89.3947 1331.64 L89.3947 1326.91 Q92.2188 1325.78 94.6724 1325.2 Q97.1261 1324.62 99.1632 1324.62 Q104.534 1324.62 107.728 1327.31 Q110.922 1329.99 110.922 1334.48 Q110.922 1336.61 110.112 1338.53 Q109.325 1340.43 107.219 1343.03 Q106.64 1343.7 103.538 1346.91 Q100.436 1350.11 94.7882 1355.87 Z\" fill=\"#000000\" fill-rule=\"evenodd\" fill-opacity=\"1\" /><path clip-path=\"url(#clip820)\" d=\"M130.922 1328.33 Q127.311 1328.33 125.482 1331.89 Q123.677 1335.43 123.677 1342.56 Q123.677 1349.67 125.482 1353.23 Q127.311 1356.78 130.922 1356.78 Q134.556 1356.78 136.362 1353.23 Q138.191 1349.67 138.191 1342.56 Q138.191 1335.43 136.362 1331.89 Q134.556 1328.33 130.922 1328.33 M130.922 1324.62 Q136.732 1324.62 139.788 1329.23 Q142.867 1333.81 142.867 1342.56 Q142.867 1351.29 139.788 1355.9 Q136.732 1360.48 130.922 1360.48 Q125.112 1360.48 122.033 1355.9 Q118.978 1351.29 118.978 1342.56 Q118.978 1333.81 122.033 1329.23 Q125.112 1324.62 130.922 1324.62 Z\" fill=\"#000000\" fill-rule=\"evenodd\" fill-opacity=\"1\" /><path clip-path=\"url(#clip820)\" d=\"M50.9921 1055.14 L80.6679 1055.14 L80.6679 1059.07 L50.9921 1059.07 L50.9921 1055.14 Z\" fill=\"#000000\" fill-rule=\"evenodd\" fill-opacity=\"1\" /><path clip-path=\"url(#clip820)\" d=\"M91.5706 1068.03 L99.2095 1068.03 L99.2095 1041.67 L90.8993 1043.33 L90.8993 1039.07 L99.1632 1037.41 L103.839 1037.41 L103.839 1068.03 L111.478 1068.03 L111.478 1071.97 L91.5706 1071.97 L91.5706 1068.03 Z\" fill=\"#000000\" fill-rule=\"evenodd\" fill-opacity=\"1\" /><path clip-path=\"url(#clip820)\" d=\"M130.922 1040.49 Q127.311 1040.49 125.482 1044.05 Q123.677 1047.59 123.677 1054.72 Q123.677 1061.83 125.482 1065.39 Q127.311 1068.93 130.922 1068.93 Q134.556 1068.93 136.362 1065.39 Q138.191 1061.83 138.191 1054.72 Q138.191 1047.59 136.362 1044.05 Q134.556 1040.49 130.922 1040.49 M130.922 1036.78 Q136.732 1036.78 139.788 1041.39 Q142.867 1045.97 142.867 1054.72 Q142.867 1063.45 139.788 1068.05 Q136.732 1072.64 130.922 1072.64 Q125.112 1072.64 122.033 1068.05 Q118.978 1063.45 118.978 1054.72 Q118.978 1045.97 122.033 1041.39 Q125.112 1036.78 130.922 1036.78 Z\" fill=\"#000000\" fill-rule=\"evenodd\" fill-opacity=\"1\" /><path clip-path=\"url(#clip820)\" d=\"M130.922 752.645 Q127.311 752.645 125.482 756.209 Q123.677 759.751 123.677 766.881 Q123.677 773.987 125.482 777.552 Q127.311 781.094 130.922 781.094 Q134.556 781.094 136.362 777.552 Q138.191 773.987 138.191 766.881 Q138.191 759.751 136.362 756.209 Q134.556 752.645 130.922 752.645 M130.922 748.941 Q136.732 748.941 139.788 753.547 Q142.867 758.131 142.867 766.881 Q142.867 775.608 139.788 780.214 Q136.732 784.797 130.922 784.797 Q125.112 784.797 122.033 780.214 Q118.978 775.608 118.978 766.881 Q118.978 758.131 122.033 753.547 Q125.112 748.941 130.922 748.941 Z\" fill=\"#000000\" fill-rule=\"evenodd\" fill-opacity=\"1\" /><path clip-path=\"url(#clip820)\" d=\"M91.5706 492.35 L99.2095 492.35 L99.2095 465.984 L90.8993 467.651 L90.8993 463.392 L99.1632 461.725 L103.839 461.725 L103.839 492.35 L111.478 492.35 L111.478 496.285 L91.5706 496.285 L91.5706 492.35 Z\" fill=\"#000000\" fill-rule=\"evenodd\" fill-opacity=\"1\" /><path clip-path=\"url(#clip820)\" d=\"M130.922 464.804 Q127.311 464.804 125.482 468.369 Q123.677 471.91 123.677 479.04 Q123.677 486.146 125.482 489.711 Q127.311 493.253 130.922 493.253 Q134.556 493.253 136.362 489.711 Q138.191 486.146 138.191 479.04 Q138.191 471.91 136.362 468.369 Q134.556 464.804 130.922 464.804 M130.922 461.1 Q136.732 461.1 139.788 465.707 Q142.867 470.29 142.867 479.04 Q142.867 487.767 139.788 492.373 Q136.732 496.957 130.922 496.957 Q125.112 496.957 122.033 492.373 Q118.978 487.767 118.978 479.04 Q118.978 470.29 122.033 465.707 Q125.112 461.1 130.922 461.1 Z\" fill=\"#000000\" fill-rule=\"evenodd\" fill-opacity=\"1\" /><path clip-path=\"url(#clip820)\" d=\"M94.7882 204.509 L111.108 204.509 L111.108 208.444 L89.1632 208.444 L89.1632 204.509 Q91.8252 201.755 96.4085 197.125 Q101.015 192.472 102.196 191.13 Q104.441 188.607 105.321 186.871 Q106.223 185.111 106.223 183.421 Q106.223 180.667 104.279 178.931 Q102.358 177.195 99.2558 177.195 Q97.0567 177.195 94.603 177.959 Q92.1725 178.722 89.3947 180.273 L89.3947 175.551 Q92.2188 174.417 94.6724 173.838 Q97.1261 173.259 99.1632 173.259 Q104.534 173.259 107.728 175.945 Q110.922 178.63 110.922 183.121 Q110.922 185.25 110.112 187.171 Q109.325 189.07 107.219 191.662 Q106.64 192.333 103.538 195.551 Q100.436 198.745 94.7882 204.509 Z\" fill=\"#000000\" fill-rule=\"evenodd\" fill-opacity=\"1\" /><path clip-path=\"url(#clip820)\" d=\"M130.922 176.963 Q127.311 176.963 125.482 180.528 Q123.677 184.07 123.677 191.199 Q123.677 198.306 125.482 201.87 Q127.311 205.412 130.922 205.412 Q134.556 205.412 136.362 201.87 Q138.191 198.306 138.191 191.199 Q138.191 184.07 136.362 180.528 Q134.556 176.963 130.922 176.963 M130.922 173.259 Q136.732 173.259 139.788 177.866 Q142.867 182.449 142.867 191.199 Q142.867 199.926 139.788 204.532 Q136.732 209.116 130.922 209.116 Q125.112 209.116 122.033 204.532 Q118.978 199.926 118.978 191.199 Q118.978 182.449 122.033 177.866 Q125.112 173.259 130.922 173.259 Z\" fill=\"#000000\" fill-rule=\"evenodd\" fill-opacity=\"1\" /><polyline clip-path=\"url(#clip822)\" style=\"stroke:#009af9; stroke-linecap:butt; stroke-linejoin:round; stroke-width:4; stroke-opacity:1; fill:none\" points=\"\n  178.867,738.315 181.52,738.601 184.174,738.991 186.828,739.486 189.482,740.082 192.135,740.778 194.789,741.571 197.443,742.458 200.096,743.437 206.231,746.024 \n  212.365,749.026 218.5,752.382 224.634,756.025 236.903,763.88 249.172,771.97 255.306,775.902 261.44,779.655 267.575,783.152 273.709,786.326 279.843,789.112 \n  285.978,791.456 292.112,793.311 298.247,794.64 304.381,795.416 310.515,795.625 316.65,795.262 322.784,794.333 328.918,792.859 335.053,790.868 341.187,788.399 \n  347.322,785.502 353.456,782.234 359.59,778.661 365.725,774.852 371.859,770.885 384.128,762.789 396.397,755.014 403.77,750.756 411.143,746.958 418.516,743.732 \n  425.889,741.168 429.575,740.159 433.262,739.341 436.948,738.722 440.635,738.304 444.321,738.091 448.008,738.085 451.694,738.285 455.381,738.691 459.067,739.299 \n  462.754,740.105 466.44,741.103 470.127,742.286 477.5,745.172 484.873,748.679 492.246,752.708 499.619,757.142 506.992,761.855 514.365,766.711 526.833,774.858 \n  539.3,782.35 545.534,785.656 551.768,788.577 558.001,791.051 564.235,793.028 570.469,794.468 576.703,795.342 582.937,795.63 589.17,795.328 595.404,794.441 \n  601.638,792.988 607.872,790.998 614.106,788.513 620.877,785.312 627.649,781.663 634.421,777.656 641.192,773.386 654.735,764.481 668.279,755.802 675.05,751.813 \n  681.822,748.187 688.594,745.013 695.365,742.368 698.751,741.264 702.137,740.315 705.523,739.527 708.909,738.904 715.68,738.17 722.452,738.13 728.695,738.71 \n  734.938,739.868 741.181,741.582 747.423,743.816 753.666,746.523 759.909,749.649 766.152,753.129 772.395,756.891 784.881,764.949 797.366,773.162 803.609,777.115 \n  809.852,780.857 816.095,784.311 822.338,787.405 829.031,790.251 835.724,792.543 842.417,794.228 849.11,795.265 855.803,795.63 862.496,795.314 869.189,794.324 \n  875.882,792.685 882.575,790.435 889.268,787.627 895.961,784.327 902.654,780.614 916.04,772.306 929.426,763.485 937.18,758.467 944.935,753.714 952.689,749.378 \n  960.444,745.597 964.321,743.952 968.198,742.489 972.075,741.22 975.953,740.154 979.83,739.301 983.707,738.666 987.584,738.256 991.462,738.072 995.339,738.118 \n  999.216,738.391 1003.09,738.891 1006.97,739.613 1010.85,740.551 1014.73,741.699 1018.6,743.046 1022.48,744.582 1030.23,748.172 1037.99,752.355 1045.74,756.997 \n  1053.5,761.951 1067.28,771.037 1081.06,779.705 1087.95,783.609 1094.85,787.092 1101.74,790.068 1108.63,792.461 1112.07,793.42 1115.52,794.212 1118.96,794.833 \n  1122.41,795.278 1129.3,795.63 1136.19,795.261 1143.08,794.179 1149.98,792.413 1156.87,790.005 1163.76,787.016 1169.8,783.977 1175.84,780.607 1181.89,776.972 \n  1187.93,773.141 1200.02,765.192 1212.1,757.37 1218.15,753.695 1224.19,750.275 1230.23,747.174 1236.27,744.452 1242.32,742.163 1248.36,740.349 1254.4,739.047 \n  1260.45,738.281 1267.04,738.073 1273.62,738.525 1280.21,739.627 1286.8,741.352 1293.39,743.661 1299.98,746.502 1306.57,749.809 1313.16,753.506 1326.33,761.727 \n  1339.51,770.414 1346.1,774.685 1352.69,778.776 1359.27,782.594 1365.86,786.05 1372.49,789.083 1379.12,791.601 1385.75,793.544 1392.37,794.868 1399,795.542 \n  1405.63,795.551 1412.26,794.894 1418.88,793.586 1425.51,791.658 1432.14,789.155 1438.77,786.134 1445.4,782.666 1458.65,774.718 1471.91,766.044 1479.23,761.229 \n  1486.56,756.573 1493.89,752.209 1501.22,748.259 1504.88,746.475 1508.55,744.835 1512.21,743.352 1515.87,742.036 1523.2,739.939 1530.53,738.605 1534.19,738.237 \n  1537.86,738.072 1541.52,738.111 1545.18,738.353 1548.85,738.799 1552.51,739.443 1556.18,740.281 1559.84,741.309 1567.17,743.898 1574.49,747.138 1581.82,750.936 \n  1589.15,755.185 1603.09,764.076 1617.04,773.25 1624.01,777.648 1630.98,781.77 1637.96,785.509 1644.93,788.768 1648.41,790.192 1651.9,791.465 1655.39,792.581 \n  1658.87,793.531 1665.84,794.911 1672.82,795.572 1679.79,795.495 1686.76,794.683 1690.25,794.008 1693.73,793.157 1697.22,792.138 1700.71,790.956 1707.95,788.012 \n  1715.2,784.481 1722.45,780.461 1729.7,776.063 1744.2,766.629 1758.7,757.219 1765.95,752.851 1773.2,748.87 1780.45,745.389 1787.7,742.502 1794.95,740.29 \n  1802.2,738.816 1805.82,738.368 1809.45,738.118 1813.07,738.068 1816.7,738.218 1822.8,738.918 1828.9,740.167 1835,741.941 1841.11,744.205 1847.21,746.915 \n  1853.31,750.016 1859.41,753.448 1865.52,757.144 1877.72,765.031 1889.93,773.061 1896.03,776.932 1902.13,780.604 1908.23,784.006 1914.34,787.07 1918.06,788.749 \n  1921.79,790.267 1925.51,791.613 1929.24,792.777 1932.96,793.751 1936.69,794.528 1940.41,795.101 1944.14,795.468 1947.86,795.624 1951.59,795.569 1955.31,795.304 \n  1959.04,794.829 1962.76,794.15 1966.49,793.27 1970.21,792.196 1973.94,790.936 1981.39,787.896 1988.84,784.241 1996.29,780.075 2003.74,775.522 2018.64,765.794 \n  2033.54,756.189 2040.55,752.038 2047.55,748.271 2054.55,744.985 2061.56,742.265 2065.06,741.139 2068.56,740.181 2072.06,739.395 2075.57,738.788 2082.57,738.121 \n  2089.57,738.198 2096.58,739.016 2103.58,740.556 2107.08,741.584 2110.58,742.776 2114.09,744.124 2117.59,745.619 2124.59,749.012 2131.59,752.867 2138.6,757.083 \n  2145.6,761.553 2156.82,768.949 2168.04,776.206 2173.65,779.63 2179.26,782.843 2184.87,785.789 2190.48,788.42 2196.09,790.693 2201.7,792.569 2207.31,794.017 \n  2212.92,795.014 2218.53,795.542 2224.14,795.593 2229.75,795.166 2235.36,794.268 2240.97,792.915 2246.59,791.127 2252.2,788.937 2257.81,786.378 2263.42,783.495 \n  2269.03,780.336 2274.64,776.951 2280.25,773.399 2291.47,766.029 2302.69,758.713 2308.3,755.228 2313.91,751.935 2319.52,748.891 2325.13,746.146 2328.58,744.624 \n  2332.03,743.242 2335.49,742.009 2338.94,740.933 2342.4,740.021 2345.85,739.277 2349.3,738.707 2352.76,738.315 \n  \"/>\n<polyline clip-path=\"url(#clip822)\" style=\"stroke:#e26f46; stroke-linecap:butt; stroke-linejoin:round; stroke-width:4; stroke-opacity:1; fill:none\" points=\"\n  178.867,738.062 200.096,738.062 396.397,738.062 514.365,738.062 614.106,738.062 722.452,738.062 822.338,738.062 929.426,738.062 1053.5,738.062 1163.76,738.062 \n  1260.45,738.062 1365.86,738.062 1471.91,738.062 1589.15,738.062 1700.71,738.062 1816.7,738.062 1914.34,738.062 2033.54,738.062 2145.6,738.062 2325.13,738.062 \n  2352.76,738.062 \n  \"/>\n<polyline clip-path=\"url(#clip822)\" style=\"stroke:#3da44d; stroke-linecap:butt; stroke-linejoin:round; stroke-width:4; stroke-opacity:1; fill:none\" points=\"\n  178.867,9733.09 189.482,9558.26 200.096,9385.14 298.247,7865.73 396.397,6493.01 455.381,5738.63 514.365,5037.22 564.235,4485.52 614.106,3971.69 668.279,3456.44 \n  722.452,2985.88 772.395,2591.66 822.338,2235.41 875.882,1895.67 929.426,1599.58 991.462,1311.12 1053.5,1081.26 1108.63,926.167 1163.76,817.356 1212.1,760.024 \n  1260.45,738.281 1313.16,755.127 1365.86,814.277 1418.88,916.459 1471.91,1061.45 1530.53,1271.58 1589.15,1534.05 1644.93,1832.35 1700.71,2178.03 1758.7,2587.7 \n  1816.7,3048.58 1865.52,3476.25 1914.34,3940.21 1973.94,4555.85 2033.54,5225.59 2089.57,5904.49 2145.6,6631.19 2235.36,7895.06 2325.13,9281.62 2338.94,9505.9 \n  2352.76,9733.09 \n  \"/>\n<polyline clip-path=\"url(#clip822)\" style=\"stroke:#c271d2; stroke-linecap:butt; stroke-linejoin:round; stroke-width:4; stroke-opacity:1; fill:none\" points=\"\n  178.867,9733.09 189.482,9558.26 200.096,9385.14 298.247,7865.73 396.397,6493.01 455.381,5738.63 514.365,5037.22 564.235,4485.52 614.106,3971.69 668.279,3456.44 \n  722.452,2985.88 772.395,2591.66 822.338,2235.41 875.882,1895.67 929.426,1599.58 991.462,1311.12 1053.5,1081.26 1108.63,926.167 1163.76,817.356 1212.1,760.024 \n  1260.45,738.281 1313.16,755.127 1365.86,814.277 1418.88,916.459 1471.91,1061.45 1530.53,1271.58 1589.15,1534.05 1644.93,1832.35 1700.71,2178.03 1758.7,2587.7 \n  1816.7,3048.58 1865.52,3476.25 1914.34,3940.21 1973.94,4555.85 2033.54,5225.59 2089.57,5904.49 2145.6,6631.19 2235.36,7895.06 2325.13,9281.62 2338.94,9505.9 \n  2352.76,9733.09 \n  \"/>\n<polyline clip-path=\"url(#clip822)\" style=\"stroke:#ac8d18; stroke-linecap:butt; stroke-linejoin:round; stroke-width:4; stroke-opacity:1; fill:none\" points=\"\n  178.867,-458758 184.174,-449762 189.482,-440898 194.789,-432165 200.096,-423563 224.634,-385439 249.172,-349935 273.709,-316928 298.247,-286300 322.784,-257932 \n  347.322,-231713 371.859,-207530 396.397,-185276 425.889,-160934 455.381,-139050 484.873,-119454 514.365,-101982 564.235,-76829.4 614.106,-56573.2 668.279,-39331.1 \n  722.452,-26270.5 772.395,-17302.5 822.338,-10746.6 929.426,-2697.97 1053.5,399.262 1163.76,780.95 1260.45,738.281 1365.86,780.643 1471.91,455.91 1589.15,-2134.59 \n  1700.71,-9828.15 1758.7,-17221.6 1816.7,-27862.6 1865.52,-39937 1914.34,-55431.3 1944.14,-66819.1 1973.94,-79839.8 2003.74,-94641.2 2033.54,-111378 2061.56,-129018 \n  2089.57,-148648 2117.59,-170412 2145.6,-194458 2168.04,-215468 2190.48,-238123 2212.92,-262503 2235.36,-288696 2257.81,-316788 2280.25,-346868 2302.69,-379029 \n  2325.13,-413362 2332.03,-424381 2338.94,-435619 2345.85,-447076 2352.76,-458758 \n  \"/>\n<polyline clip-path=\"url(#clip822)\" style=\"stroke:#00a9ad; stroke-linecap:butt; stroke-linejoin:round; stroke-width:4; stroke-opacity:1; fill:none\" points=\"\n  178.867,-458758 184.174,-449762 189.482,-440898 194.789,-432165 200.096,-423563 224.634,-385439 249.172,-349935 273.709,-316928 298.247,-286300 322.784,-257932 \n  347.322,-231713 371.859,-207530 396.397,-185276 425.889,-160934 455.381,-139050 484.873,-119454 514.365,-101982 564.235,-76829.4 614.106,-56573.2 668.279,-39331.1 \n  722.452,-26270.5 772.395,-17302.5 822.338,-10746.6 929.426,-2697.97 1053.5,399.262 1163.76,780.95 1260.45,738.281 1365.86,780.643 1471.91,455.91 1589.15,-2134.59 \n  1700.71,-9828.15 1758.7,-17221.6 1816.7,-27862.6 1865.52,-39937 1914.34,-55431.3 1944.14,-66819.1 1973.94,-79839.8 2003.74,-94641.2 2033.54,-111378 2061.56,-129018 \n  2089.57,-148648 2117.59,-170412 2145.6,-194458 2168.04,-215468 2190.48,-238123 2212.92,-262503 2235.36,-288696 2257.81,-316788 2280.25,-346868 2302.69,-379029 \n  2325.13,-413362 2332.03,-424381 2338.94,-435619 2345.85,-447076 2352.76,-458758 \n  \"/>\n<path clip-path=\"url(#clip820)\" d=\"\nM1457.71 458.098 L2280.29 458.098 L2280.29 95.2176 L1457.71 95.2176  Z\n  \" fill=\"#ffffff\" fill-rule=\"evenodd\" fill-opacity=\"1\"/>\n<polyline clip-path=\"url(#clip820)\" style=\"stroke:#000000; stroke-linecap:butt; stroke-linejoin:round; stroke-width:4; stroke-opacity:1; fill:none\" points=\"\n  1457.71,458.098 2280.29,458.098 2280.29,95.2176 1457.71,95.2176 1457.71,458.098 \n  \"/>\n<polyline clip-path=\"url(#clip820)\" style=\"stroke:#009af9; stroke-linecap:butt; stroke-linejoin:round; stroke-width:4; stroke-opacity:1; fill:none\" points=\"\n  1481.87,147.058 1626.79,147.058 \n  \"/>\n<path clip-path=\"url(#clip820)\" d=\"M1671.45 139.407 L1671.45 143.389 Q1669.65 142.393 1667.82 141.907 Q1666.02 141.398 1664.16 141.398 Q1660.02 141.398 1657.73 144.037 Q1655.44 146.652 1655.44 151.398 Q1655.44 156.143 1657.73 158.782 Q1660.02 161.398 1664.16 161.398 Q1666.02 161.398 1667.82 160.912 Q1669.65 160.402 1671.45 159.407 L1671.45 163.342 Q1669.67 164.176 1667.75 164.592 Q1665.85 165.009 1663.7 165.009 Q1657.84 165.009 1654.39 161.328 Q1650.95 157.648 1650.95 151.398 Q1650.95 145.055 1654.42 141.421 Q1657.91 137.787 1663.98 137.787 Q1665.95 137.787 1667.82 138.203 Q1669.7 138.597 1671.45 139.407 Z\" fill=\"#000000\" fill-rule=\"evenodd\" fill-opacity=\"1\" /><path clip-path=\"url(#clip820)\" d=\"M1688.91 141.398 Q1685.48 141.398 1683.49 144.083 Q1681.5 146.745 1681.5 151.398 Q1681.5 156.051 1683.47 158.736 Q1685.46 161.398 1688.91 161.398 Q1692.31 161.398 1694.3 158.713 Q1696.29 156.027 1696.29 151.398 Q1696.29 146.791 1694.3 144.106 Q1692.31 141.398 1688.91 141.398 M1688.91 137.787 Q1694.46 137.787 1697.64 141.398 Q1700.81 145.009 1700.81 151.398 Q1700.81 157.764 1697.64 161.398 Q1694.46 165.009 1688.91 165.009 Q1683.33 165.009 1680.16 161.398 Q1677.01 157.764 1677.01 151.398 Q1677.01 145.009 1680.16 141.398 Q1683.33 137.787 1688.91 137.787 Z\" fill=\"#000000\" fill-rule=\"evenodd\" fill-opacity=\"1\" /><path clip-path=\"url(#clip820)\" d=\"M1724.39 139.176 L1724.39 143.203 Q1722.59 142.277 1720.64 141.815 Q1718.7 141.352 1716.62 141.352 Q1713.45 141.352 1711.85 142.324 Q1710.27 143.296 1710.27 145.24 Q1710.27 146.722 1711.41 147.578 Q1712.54 148.412 1715.97 149.176 L1717.43 149.5 Q1721.96 150.472 1723.86 152.254 Q1725.78 154.014 1725.78 157.185 Q1725.78 160.796 1722.91 162.902 Q1720.07 165.009 1715.07 165.009 Q1712.98 165.009 1710.71 164.592 Q1708.47 164.199 1705.97 163.388 L1705.97 158.99 Q1708.33 160.217 1710.62 160.842 Q1712.91 161.444 1715.16 161.444 Q1718.17 161.444 1719.79 160.426 Q1721.41 159.384 1721.41 157.509 Q1721.41 155.773 1720.23 154.847 Q1719.07 153.921 1715.11 153.064 L1713.63 152.717 Q1709.67 151.884 1707.91 150.171 Q1706.15 148.435 1706.15 145.426 Q1706.15 141.768 1708.75 139.778 Q1711.34 137.787 1716.11 137.787 Q1718.47 137.787 1720.55 138.134 Q1722.64 138.481 1724.39 139.176 Z\" fill=\"#000000\" fill-rule=\"evenodd\" fill-opacity=\"1\" /><path clip-path=\"url(#clip820)\" d=\"M1742.8 128.366 Q1739.7 133.69 1738.19 138.898 Q1736.69 144.106 1736.69 149.453 Q1736.69 154.801 1738.19 160.055 Q1739.72 165.287 1742.8 170.588 L1739.09 170.588 Q1735.62 165.148 1733.89 159.893 Q1732.17 154.639 1732.17 149.453 Q1732.17 144.291 1733.89 139.06 Q1735.6 133.828 1739.09 128.366 L1742.8 128.366 Z\" fill=\"#000000\" fill-rule=\"evenodd\" fill-opacity=\"1\" /><path clip-path=\"url(#clip820)\" d=\"M1750.39 128.366 L1754.09 128.366 Q1757.57 133.828 1759.28 139.06 Q1761.01 144.291 1761.01 149.453 Q1761.01 154.639 1759.28 159.893 Q1757.57 165.148 1754.09 170.588 L1750.39 170.588 Q1753.47 165.287 1754.97 160.055 Q1756.5 154.801 1756.5 149.453 Q1756.5 144.106 1754.97 138.898 Q1753.47 133.69 1750.39 128.366 Z\" fill=\"#000000\" fill-rule=\"evenodd\" fill-opacity=\"1\" /><path clip-path=\"url(#clip820)\" d=\"M1797.75 128.319 L1797.75 131.861 L1793.68 131.861 Q1791.38 131.861 1790.48 132.787 Q1789.6 133.713 1789.6 136.12 L1789.6 138.412 L1796.62 138.412 L1796.62 141.722 L1789.6 141.722 L1789.6 164.338 L1785.32 164.338 L1785.32 141.722 L1781.25 141.722 L1781.25 138.412 L1785.32 138.412 L1785.32 136.606 Q1785.32 132.278 1787.33 130.31 Q1789.35 128.319 1793.72 128.319 L1797.75 128.319 Z\" fill=\"#000000\" fill-rule=\"evenodd\" fill-opacity=\"1\" /><path clip-path=\"url(#clip820)\" d=\"M1800.88 154.106 L1800.88 138.412 L1805.13 138.412 L1805.13 153.944 Q1805.13 157.625 1806.57 159.476 Q1808.01 161.305 1810.88 161.305 Q1814.32 161.305 1816.32 159.106 Q1818.33 156.907 1818.33 153.111 L1818.33 138.412 L1822.59 138.412 L1822.59 164.338 L1818.33 164.338 L1818.33 160.356 Q1816.78 162.717 1814.72 163.875 Q1812.68 165.009 1809.97 165.009 Q1805.51 165.009 1803.19 162.231 Q1800.88 159.453 1800.88 154.106 M1811.59 137.787 L1811.59 137.787 Z\" fill=\"#000000\" fill-rule=\"evenodd\" fill-opacity=\"1\" /><path clip-path=\"url(#clip820)\" d=\"M1852.91 148.689 L1852.91 164.338 L1848.65 164.338 L1848.65 148.828 Q1848.65 145.148 1847.22 143.319 Q1845.78 141.49 1842.91 141.49 Q1839.46 141.49 1837.47 143.69 Q1835.48 145.889 1835.48 149.685 L1835.48 164.338 L1831.2 164.338 L1831.2 138.412 L1835.48 138.412 L1835.48 142.44 Q1837.01 140.102 1839.07 138.944 Q1841.15 137.787 1843.86 137.787 Q1848.33 137.787 1850.62 140.565 Q1852.91 143.319 1852.91 148.689 Z\" fill=\"#000000\" fill-rule=\"evenodd\" fill-opacity=\"1\" /><path clip-path=\"url(#clip820)\" d=\"M1880.06 139.407 L1880.06 143.389 Q1878.26 142.393 1876.43 141.907 Q1874.63 141.398 1872.77 141.398 Q1868.63 141.398 1866.34 144.037 Q1864.05 146.652 1864.05 151.398 Q1864.05 156.143 1866.34 158.782 Q1868.63 161.398 1872.77 161.398 Q1874.63 161.398 1876.43 160.912 Q1878.26 160.402 1880.06 159.407 L1880.06 163.342 Q1878.28 164.176 1876.36 164.592 Q1874.46 165.009 1872.31 165.009 Q1866.45 165.009 1863 161.328 Q1859.56 157.648 1859.56 151.398 Q1859.56 145.055 1863.03 141.421 Q1866.52 137.787 1872.59 137.787 Q1874.56 137.787 1876.43 138.203 Q1878.31 138.597 1880.06 139.407 Z\" fill=\"#000000\" fill-rule=\"evenodd\" fill-opacity=\"1\" /><path clip-path=\"url(#clip820)\" d=\"M1891.69 131.051 L1891.69 138.412 L1900.46 138.412 L1900.46 141.722 L1891.69 141.722 L1891.69 155.796 Q1891.69 158.967 1892.54 159.87 Q1893.42 160.773 1896.08 160.773 L1900.46 160.773 L1900.46 164.338 L1896.08 164.338 Q1891.15 164.338 1889.28 162.509 Q1887.4 160.657 1887.4 155.796 L1887.4 141.722 L1884.28 141.722 L1884.28 138.412 L1887.4 138.412 L1887.4 131.051 L1891.69 131.051 Z\" fill=\"#000000\" fill-rule=\"evenodd\" fill-opacity=\"1\" /><path clip-path=\"url(#clip820)\" d=\"M1906.06 138.412 L1910.32 138.412 L1910.32 164.338 L1906.06 164.338 L1906.06 138.412 M1906.06 128.319 L1910.32 128.319 L1910.32 133.713 L1906.06 133.713 L1906.06 128.319 Z\" fill=\"#000000\" fill-rule=\"evenodd\" fill-opacity=\"1\" /><path clip-path=\"url(#clip820)\" d=\"M1929.28 141.398 Q1925.85 141.398 1923.86 144.083 Q1921.87 146.745 1921.87 151.398 Q1921.87 156.051 1923.84 158.736 Q1925.83 161.398 1929.28 161.398 Q1932.68 161.398 1934.67 158.713 Q1936.66 156.027 1936.66 151.398 Q1936.66 146.791 1934.67 144.106 Q1932.68 141.398 1929.28 141.398 M1929.28 137.787 Q1934.83 137.787 1938 141.398 Q1941.18 145.009 1941.18 151.398 Q1941.18 157.764 1938 161.398 Q1934.83 165.009 1929.28 165.009 Q1923.7 165.009 1920.53 161.398 Q1917.38 157.764 1917.38 151.398 Q1917.38 145.009 1920.53 141.398 Q1923.7 137.787 1929.28 137.787 Z\" fill=\"#000000\" fill-rule=\"evenodd\" fill-opacity=\"1\" /><path clip-path=\"url(#clip820)\" d=\"M1969.79 148.689 L1969.79 164.338 L1965.53 164.338 L1965.53 148.828 Q1965.53 145.148 1964.09 143.319 Q1962.66 141.49 1959.79 141.49 Q1956.34 141.49 1954.35 143.69 Q1952.36 145.889 1952.36 149.685 L1952.36 164.338 L1948.07 164.338 L1948.07 138.412 L1952.36 138.412 L1952.36 142.44 Q1953.88 140.102 1955.94 138.944 Q1958.03 137.787 1960.74 137.787 Q1965.2 137.787 1967.49 140.565 Q1969.79 143.319 1969.79 148.689 Z\" fill=\"#000000\" fill-rule=\"evenodd\" fill-opacity=\"1\" /><polyline clip-path=\"url(#clip820)\" style=\"stroke:#e26f46; stroke-linecap:butt; stroke-linejoin:round; stroke-width:4; stroke-opacity:1; fill:none\" points=\"\n  1481.87,198.898 1626.79,198.898 \n  \"/>\n<path clip-path=\"url(#clip820)\" d=\"M1673.19 182.752 L1673.19 187.312 Q1670.53 186.039 1668.17 185.414 Q1665.81 184.789 1663.61 184.789 Q1659.79 184.789 1657.7 186.27 Q1655.64 187.752 1655.64 190.483 Q1655.64 192.775 1657.01 193.955 Q1658.4 195.113 1662.24 195.83 L1665.07 196.409 Q1670.3 197.405 1672.77 199.928 Q1675.27 202.428 1675.27 206.641 Q1675.27 211.664 1671.89 214.256 Q1668.54 216.849 1662.03 216.849 Q1659.58 216.849 1656.8 216.293 Q1654.05 215.738 1651.08 214.65 L1651.08 209.835 Q1653.93 211.432 1656.66 212.242 Q1659.39 213.053 1662.03 213.053 Q1666.04 213.053 1668.21 211.479 Q1670.39 209.904 1670.39 206.988 Q1670.39 204.442 1668.82 203.006 Q1667.27 201.571 1663.7 200.854 L1660.85 200.298 Q1655.62 199.256 1653.28 197.034 Q1650.95 194.812 1650.95 190.854 Q1650.95 186.27 1654.16 183.631 Q1657.4 180.993 1663.08 180.993 Q1665.51 180.993 1668.03 181.432 Q1670.55 181.872 1673.19 182.752 Z\" fill=\"#000000\" fill-rule=\"evenodd\" fill-opacity=\"1\" /><path clip-path=\"url(#clip820)\" d=\"M1704.56 202.15 L1704.56 204.233 L1684.97 204.233 Q1685.25 208.631 1687.61 210.946 Q1690 213.238 1694.23 213.238 Q1696.69 213.238 1698.98 212.636 Q1701.29 212.034 1703.56 210.83 L1703.56 214.858 Q1701.27 215.83 1698.86 216.34 Q1696.45 216.849 1693.98 216.849 Q1687.77 216.849 1684.14 213.238 Q1680.53 209.627 1680.53 203.469 Q1680.53 197.104 1683.95 193.377 Q1687.4 189.627 1693.24 189.627 Q1698.47 189.627 1701.5 193.006 Q1704.56 196.363 1704.56 202.15 M1700.3 200.9 Q1700.25 197.405 1698.33 195.321 Q1696.43 193.238 1693.28 193.238 Q1689.72 193.238 1687.57 195.252 Q1685.44 197.266 1685.11 200.923 L1700.3 200.9 M1696.2 178.261 L1700.81 178.261 L1693.26 186.965 L1689.72 186.965 L1696.2 178.261 Z\" fill=\"#000000\" fill-rule=\"evenodd\" fill-opacity=\"1\" /><path clip-path=\"url(#clip820)\" d=\"M1726.57 194.233 Q1725.85 193.817 1725 193.631 Q1724.16 193.423 1723.14 193.423 Q1719.53 193.423 1717.59 195.784 Q1715.67 198.122 1715.67 202.52 L1715.67 216.178 L1711.39 216.178 L1711.39 190.252 L1715.67 190.252 L1715.67 194.28 Q1717.01 191.918 1719.16 190.784 Q1721.32 189.627 1724.39 189.627 Q1724.83 189.627 1725.37 189.696 Q1725.9 189.743 1726.55 189.858 L1726.57 194.233 Z\" fill=\"#000000\" fill-rule=\"evenodd\" fill-opacity=\"1\" /><path clip-path=\"url(#clip820)\" d=\"M1731.04 190.252 L1735.3 190.252 L1735.3 216.178 L1731.04 216.178 L1731.04 190.252 M1731.04 180.159 L1735.3 180.159 L1735.3 185.553 L1731.04 185.553 L1731.04 180.159 Z\" fill=\"#000000\" fill-rule=\"evenodd\" fill-opacity=\"1\" /><path clip-path=\"url(#clip820)\" d=\"M1766.38 202.15 L1766.38 204.233 L1746.8 204.233 Q1747.08 208.631 1749.44 210.946 Q1751.82 213.238 1756.06 213.238 Q1758.51 213.238 1760.81 212.636 Q1763.12 212.034 1765.39 210.83 L1765.39 214.858 Q1763.1 215.83 1760.69 216.34 Q1758.28 216.849 1755.81 216.849 Q1749.6 216.849 1745.97 213.238 Q1742.36 209.627 1742.36 203.469 Q1742.36 197.104 1745.78 193.377 Q1749.23 189.627 1755.07 189.627 Q1760.3 189.627 1763.33 193.006 Q1766.38 196.363 1766.38 202.15 M1762.13 200.9 Q1762.08 197.405 1760.16 195.321 Q1758.26 193.238 1755.11 193.238 Q1751.55 193.238 1749.39 195.252 Q1747.26 197.266 1746.94 200.923 L1762.13 200.9 Z\" fill=\"#000000\" fill-rule=\"evenodd\" fill-opacity=\"1\" /><path clip-path=\"url(#clip820)\" d=\"M1805.51 194.187 L1805.51 180.159 L1809.76 180.159 L1809.76 216.178 L1805.51 216.178 L1805.51 212.289 Q1804.16 214.603 1802.1 215.738 Q1800.07 216.849 1797.19 216.849 Q1792.5 216.849 1789.53 213.099 Q1786.59 209.349 1786.59 203.238 Q1786.59 197.127 1789.53 193.377 Q1792.5 189.627 1797.19 189.627 Q1800.07 189.627 1802.1 190.761 Q1804.16 191.872 1805.51 194.187 M1790.99 203.238 Q1790.99 207.937 1792.91 210.622 Q1794.86 213.284 1798.24 213.284 Q1801.62 213.284 1803.56 210.622 Q1805.51 207.937 1805.51 203.238 Q1805.51 198.539 1803.56 195.877 Q1801.62 193.192 1798.24 193.192 Q1794.86 193.192 1792.91 195.877 Q1790.99 198.539 1790.99 203.238 Z\" fill=\"#000000\" fill-rule=\"evenodd\" fill-opacity=\"1\" /><path clip-path=\"url(#clip820)\" d=\"M1840.71 202.15 L1840.71 204.233 L1821.13 204.233 Q1821.41 208.631 1823.77 210.946 Q1826.15 213.238 1830.39 213.238 Q1832.84 213.238 1835.13 212.636 Q1837.45 212.034 1839.72 210.83 L1839.72 214.858 Q1837.43 215.83 1835.02 216.34 Q1832.61 216.849 1830.13 216.849 Q1823.93 216.849 1820.3 213.238 Q1816.69 209.627 1816.69 203.469 Q1816.69 197.104 1820.11 193.377 Q1823.56 189.627 1829.39 189.627 Q1834.63 189.627 1837.66 193.006 Q1840.71 196.363 1840.71 202.15 M1836.45 200.9 Q1836.41 197.405 1834.49 195.321 Q1832.59 193.238 1829.44 193.238 Q1825.88 193.238 1823.72 195.252 Q1821.59 197.266 1821.27 200.923 L1836.45 200.9 Z\" fill=\"#000000\" fill-rule=\"evenodd\" fill-opacity=\"1\" /><path clip-path=\"url(#clip820)\" d=\"M1858.17 181.618 L1887.4 181.618 L1887.4 185.553 L1875.13 185.553 L1875.13 216.178 L1870.44 216.178 L1870.44 185.553 L1858.17 185.553 L1858.17 181.618 Z\" fill=\"#000000\" fill-rule=\"evenodd\" fill-opacity=\"1\" /><path clip-path=\"url(#clip820)\" d=\"M1895.67 203.145 Q1890.5 203.145 1888.51 204.326 Q1886.52 205.506 1886.52 208.354 Q1886.52 210.622 1888 211.965 Q1889.51 213.284 1892.08 213.284 Q1895.62 213.284 1897.75 210.784 Q1899.9 208.261 1899.9 204.094 L1899.9 203.145 L1895.67 203.145 M1904.16 201.386 L1904.16 216.178 L1899.9 216.178 L1899.9 212.242 Q1898.44 214.603 1896.27 215.738 Q1894.09 216.849 1890.94 216.849 Q1886.96 216.849 1884.6 214.627 Q1882.26 212.381 1882.26 208.631 Q1882.26 204.256 1885.18 202.034 Q1888.12 199.812 1893.93 199.812 L1899.9 199.812 L1899.9 199.395 Q1899.9 196.455 1897.96 194.858 Q1896.04 193.238 1892.54 193.238 Q1890.32 193.238 1888.21 193.77 Q1886.11 194.303 1884.16 195.367 L1884.16 191.432 Q1886.5 190.53 1888.7 190.09 Q1890.9 189.627 1892.98 189.627 Q1898.61 189.627 1901.38 192.543 Q1904.16 195.46 1904.16 201.386 Z\" fill=\"#000000\" fill-rule=\"evenodd\" fill-opacity=\"1\" /><path clip-path=\"url(#clip820)\" d=\"M1923.72 218.585 Q1921.92 223.215 1920.2 224.627 Q1918.49 226.039 1915.62 226.039 L1912.22 226.039 L1912.22 222.474 L1914.72 222.474 Q1916.48 222.474 1917.45 221.64 Q1918.42 220.807 1919.6 217.705 L1920.37 215.761 L1909.88 190.252 L1914.39 190.252 L1922.5 210.529 L1930.6 190.252 L1935.11 190.252 L1923.72 218.585 Z\" fill=\"#000000\" fill-rule=\"evenodd\" fill-opacity=\"1\" /><path clip-path=\"url(#clip820)\" d=\"M1940.99 180.159 L1945.25 180.159 L1945.25 216.178 L1940.99 216.178 L1940.99 180.159 Z\" fill=\"#000000\" fill-rule=\"evenodd\" fill-opacity=\"1\" /><path clip-path=\"url(#clip820)\" d=\"M1964.21 193.238 Q1960.78 193.238 1958.79 195.923 Q1956.8 198.585 1956.8 203.238 Q1956.8 207.891 1958.77 210.576 Q1960.76 213.238 1964.21 213.238 Q1967.61 213.238 1969.6 210.553 Q1971.59 207.867 1971.59 203.238 Q1971.59 198.631 1969.6 195.946 Q1967.61 193.238 1964.21 193.238 M1964.21 189.627 Q1969.76 189.627 1972.93 193.238 Q1976.11 196.849 1976.11 203.238 Q1976.11 209.604 1972.93 213.238 Q1969.76 216.849 1964.21 216.849 Q1958.63 216.849 1955.46 213.238 Q1952.31 209.604 1952.31 203.238 Q1952.31 196.849 1955.46 193.238 Q1958.63 189.627 1964.21 189.627 Z\" fill=\"#000000\" fill-rule=\"evenodd\" fill-opacity=\"1\" /><path clip-path=\"url(#clip820)\" d=\"M1998.19 194.233 Q1997.47 193.817 1996.62 193.631 Q1995.78 193.423 1994.76 193.423 Q1991.15 193.423 1989.21 195.784 Q1987.29 198.122 1987.29 202.52 L1987.29 216.178 L1983 216.178 L1983 190.252 L1987.29 190.252 L1987.29 194.28 Q1988.63 191.918 1990.78 190.784 Q1992.93 189.627 1996.01 189.627 Q1996.45 189.627 1996.99 189.696 Q1997.52 189.743 1998.17 189.858 L1998.19 194.233 Z\" fill=\"#000000\" fill-rule=\"evenodd\" fill-opacity=\"1\" /><path clip-path=\"url(#clip820)\" d=\"M2015.57 201.293 L2028.05 201.293 L2028.05 205.09 L2015.57 205.09 L2015.57 201.293 Z\" fill=\"#000000\" fill-rule=\"evenodd\" fill-opacity=\"1\" /><path clip-path=\"url(#clip820)\" d=\"M2051.31 212.242 L2058.95 212.242 L2058.95 185.877 L2050.64 187.543 L2050.64 183.284 L2058.91 181.618 L2063.58 181.618 L2063.58 212.242 L2071.22 212.242 L2071.22 216.178 L2051.31 216.178 L2051.31 212.242 Z\" fill=\"#000000\" fill-rule=\"evenodd\" fill-opacity=\"1\" /><path clip-path=\"url(#clip820)\" d=\"M2090.53 181.618 L2119.76 181.618 L2119.76 185.553 L2107.49 185.553 L2107.49 216.178 L2102.8 216.178 L2102.8 185.553 L2090.53 185.553 L2090.53 181.618 Z\" fill=\"#000000\" fill-rule=\"evenodd\" fill-opacity=\"1\" /><path clip-path=\"url(#clip820)\" d=\"M2138.21 202.15 L2138.21 204.233 L2118.63 204.233 Q2118.91 208.631 2121.27 210.946 Q2123.65 213.238 2127.89 213.238 Q2130.34 213.238 2132.63 212.636 Q2134.95 212.034 2137.22 210.83 L2137.22 214.858 Q2134.92 215.83 2132.52 216.34 Q2130.11 216.849 2127.63 216.849 Q2121.43 216.849 2117.8 213.238 Q2114.18 209.627 2114.18 203.469 Q2114.18 197.104 2117.61 193.377 Q2121.06 189.627 2126.89 189.627 Q2132.12 189.627 2135.16 193.006 Q2138.21 196.363 2138.21 202.15 M2133.95 200.9 Q2133.91 197.405 2131.98 195.321 Q2130.09 193.238 2126.94 193.238 Q2123.37 193.238 2121.22 195.252 Q2119.09 197.266 2118.77 200.923 L2133.95 200.9 Z\" fill=\"#000000\" fill-rule=\"evenodd\" fill-opacity=\"1\" /><path clip-path=\"url(#clip820)\" d=\"M2160.23 194.233 Q2159.51 193.817 2158.65 193.631 Q2157.82 193.423 2156.8 193.423 Q2153.19 193.423 2151.24 195.784 Q2149.32 198.122 2149.32 202.52 L2149.32 216.178 L2145.04 216.178 L2145.04 190.252 L2149.32 190.252 L2149.32 194.28 Q2150.67 191.918 2152.82 190.784 Q2154.97 189.627 2158.05 189.627 Q2158.49 189.627 2159.02 189.696 Q2159.55 189.743 2160.2 189.858 L2160.23 194.233 Z\" fill=\"#000000\" fill-rule=\"evenodd\" fill-opacity=\"1\" /><path clip-path=\"url(#clip820)\" d=\"M2184.04 195.229 Q2185.64 192.358 2187.86 190.993 Q2190.09 189.627 2193.1 189.627 Q2197.15 189.627 2199.35 192.474 Q2201.54 195.298 2201.54 200.529 L2201.54 216.178 L2197.26 216.178 L2197.26 200.668 Q2197.26 196.942 2195.94 195.136 Q2194.62 193.33 2191.92 193.33 Q2188.6 193.33 2186.68 195.53 Q2184.76 197.729 2184.76 201.525 L2184.76 216.178 L2180.48 216.178 L2180.48 200.668 Q2180.48 196.918 2179.16 195.136 Q2177.84 193.33 2175.09 193.33 Q2171.82 193.33 2169.9 195.553 Q2167.98 197.752 2167.98 201.525 L2167.98 216.178 L2163.7 216.178 L2163.7 190.252 L2167.98 190.252 L2167.98 194.28 Q2169.44 191.895 2171.48 190.761 Q2173.51 189.627 2176.31 189.627 Q2179.14 189.627 2181.1 191.062 Q2183.1 192.497 2184.04 195.229 Z\" fill=\"#000000\" fill-rule=\"evenodd\" fill-opacity=\"1\" /><path clip-path=\"url(#clip820)\" d=\"M2220.09 193.238 Q2216.66 193.238 2214.67 195.923 Q2212.68 198.585 2212.68 203.238 Q2212.68 207.891 2214.65 210.576 Q2216.64 213.238 2220.09 213.238 Q2223.49 213.238 2225.48 210.553 Q2227.47 207.867 2227.47 203.238 Q2227.47 198.631 2225.48 195.946 Q2223.49 193.238 2220.09 193.238 M2220.09 189.627 Q2225.64 189.627 2228.81 193.238 Q2231.98 196.849 2231.98 203.238 Q2231.98 209.604 2228.81 213.238 Q2225.64 216.849 2220.09 216.849 Q2214.51 216.849 2211.34 213.238 Q2208.19 209.604 2208.19 203.238 Q2208.19 196.849 2211.34 193.238 Q2214.51 189.627 2220.09 189.627 Z\" fill=\"#000000\" fill-rule=\"evenodd\" fill-opacity=\"1\" /><polyline clip-path=\"url(#clip820)\" style=\"stroke:#3da44d; stroke-linecap:butt; stroke-linejoin:round; stroke-width:4; stroke-opacity:1; fill:none\" points=\"\n  1481.87,250.738 1626.79,250.738 \n  \"/>\n<path clip-path=\"url(#clip820)\" d=\"M1673.19 234.592 L1673.19 239.152 Q1670.53 237.879 1668.17 237.254 Q1665.81 236.629 1663.61 236.629 Q1659.79 236.629 1657.7 238.11 Q1655.64 239.592 1655.64 242.323 Q1655.64 244.615 1657.01 245.795 Q1658.4 246.953 1662.24 247.67 L1665.07 248.249 Q1670.3 249.245 1672.77 251.768 Q1675.27 254.268 1675.27 258.481 Q1675.27 263.504 1671.89 266.096 Q1668.54 268.689 1662.03 268.689 Q1659.58 268.689 1656.8 268.133 Q1654.05 267.578 1651.08 266.49 L1651.08 261.675 Q1653.93 263.272 1656.66 264.082 Q1659.39 264.893 1662.03 264.893 Q1666.04 264.893 1668.21 263.319 Q1670.39 261.744 1670.39 258.828 Q1670.39 256.282 1668.82 254.846 Q1667.27 253.411 1663.7 252.694 L1660.85 252.138 Q1655.62 251.096 1653.28 248.874 Q1650.95 246.652 1650.95 242.694 Q1650.95 238.11 1654.16 235.471 Q1657.4 232.833 1663.08 232.833 Q1665.51 232.833 1668.03 233.272 Q1670.55 233.712 1673.19 234.592 Z\" fill=\"#000000\" fill-rule=\"evenodd\" fill-opacity=\"1\" /><path clip-path=\"url(#clip820)\" d=\"M1704.56 253.99 L1704.56 256.073 L1684.97 256.073 Q1685.25 260.471 1687.61 262.786 Q1690 265.078 1694.23 265.078 Q1696.69 265.078 1698.98 264.476 Q1701.29 263.874 1703.56 262.67 L1703.56 266.698 Q1701.27 267.67 1698.86 268.18 Q1696.45 268.689 1693.98 268.689 Q1687.77 268.689 1684.14 265.078 Q1680.53 261.467 1680.53 255.309 Q1680.53 248.944 1683.95 245.217 Q1687.4 241.467 1693.24 241.467 Q1698.47 241.467 1701.5 244.846 Q1704.56 248.203 1704.56 253.99 M1700.3 252.74 Q1700.25 249.245 1698.33 247.161 Q1696.43 245.078 1693.28 245.078 Q1689.72 245.078 1687.57 247.092 Q1685.44 249.106 1685.11 252.763 L1700.3 252.74 M1696.2 230.101 L1700.81 230.101 L1693.26 238.805 L1689.72 238.805 L1696.2 230.101 Z\" fill=\"#000000\" fill-rule=\"evenodd\" fill-opacity=\"1\" /><path clip-path=\"url(#clip820)\" d=\"M1726.57 246.073 Q1725.85 245.657 1725 245.471 Q1724.16 245.263 1723.14 245.263 Q1719.53 245.263 1717.59 247.624 Q1715.67 249.962 1715.67 254.36 L1715.67 268.018 L1711.39 268.018 L1711.39 242.092 L1715.67 242.092 L1715.67 246.12 Q1717.01 243.758 1719.16 242.624 Q1721.32 241.467 1724.39 241.467 Q1724.83 241.467 1725.37 241.536 Q1725.9 241.583 1726.55 241.698 L1726.57 246.073 Z\" fill=\"#000000\" fill-rule=\"evenodd\" fill-opacity=\"1\" /><path clip-path=\"url(#clip820)\" d=\"M1731.04 242.092 L1735.3 242.092 L1735.3 268.018 L1731.04 268.018 L1731.04 242.092 M1731.04 231.999 L1735.3 231.999 L1735.3 237.393 L1731.04 237.393 L1731.04 231.999 Z\" fill=\"#000000\" fill-rule=\"evenodd\" fill-opacity=\"1\" /><path clip-path=\"url(#clip820)\" d=\"M1766.38 253.99 L1766.38 256.073 L1746.8 256.073 Q1747.08 260.471 1749.44 262.786 Q1751.82 265.078 1756.06 265.078 Q1758.51 265.078 1760.81 264.476 Q1763.12 263.874 1765.39 262.67 L1765.39 266.698 Q1763.1 267.67 1760.69 268.18 Q1758.28 268.689 1755.81 268.689 Q1749.6 268.689 1745.97 265.078 Q1742.36 261.467 1742.36 255.309 Q1742.36 248.944 1745.78 245.217 Q1749.23 241.467 1755.07 241.467 Q1760.3 241.467 1763.33 244.846 Q1766.38 248.203 1766.38 253.99 M1762.13 252.74 Q1762.08 249.245 1760.16 247.161 Q1758.26 245.078 1755.11 245.078 Q1751.55 245.078 1749.39 247.092 Q1747.26 249.106 1746.94 252.763 L1762.13 252.74 Z\" fill=\"#000000\" fill-rule=\"evenodd\" fill-opacity=\"1\" /><path clip-path=\"url(#clip820)\" d=\"M1805.51 246.027 L1805.51 231.999 L1809.76 231.999 L1809.76 268.018 L1805.51 268.018 L1805.51 264.129 Q1804.16 266.443 1802.1 267.578 Q1800.07 268.689 1797.19 268.689 Q1792.5 268.689 1789.53 264.939 Q1786.59 261.189 1786.59 255.078 Q1786.59 248.967 1789.53 245.217 Q1792.5 241.467 1797.19 241.467 Q1800.07 241.467 1802.1 242.601 Q1804.16 243.712 1805.51 246.027 M1790.99 255.078 Q1790.99 259.777 1792.91 262.462 Q1794.86 265.124 1798.24 265.124 Q1801.62 265.124 1803.56 262.462 Q1805.51 259.777 1805.51 255.078 Q1805.51 250.379 1803.56 247.717 Q1801.62 245.032 1798.24 245.032 Q1794.86 245.032 1792.91 247.717 Q1790.99 250.379 1790.99 255.078 Z\" fill=\"#000000\" fill-rule=\"evenodd\" fill-opacity=\"1\" /><path clip-path=\"url(#clip820)\" d=\"M1840.71 253.99 L1840.71 256.073 L1821.13 256.073 Q1821.41 260.471 1823.77 262.786 Q1826.15 265.078 1830.39 265.078 Q1832.84 265.078 1835.13 264.476 Q1837.45 263.874 1839.72 262.67 L1839.72 266.698 Q1837.43 267.67 1835.02 268.18 Q1832.61 268.689 1830.13 268.689 Q1823.93 268.689 1820.3 265.078 Q1816.69 261.467 1816.69 255.309 Q1816.69 248.944 1820.11 245.217 Q1823.56 241.467 1829.39 241.467 Q1834.63 241.467 1837.66 244.846 Q1840.71 248.203 1840.71 253.99 M1836.45 252.74 Q1836.41 249.245 1834.49 247.161 Q1832.59 245.078 1829.44 245.078 Q1825.88 245.078 1823.72 247.092 Q1821.59 249.106 1821.27 252.763 L1836.45 252.74 Z\" fill=\"#000000\" fill-rule=\"evenodd\" fill-opacity=\"1\" /><path clip-path=\"url(#clip820)\" d=\"M1858.17 233.458 L1887.4 233.458 L1887.4 237.393 L1875.13 237.393 L1875.13 268.018 L1870.44 268.018 L1870.44 237.393 L1858.17 237.393 L1858.17 233.458 Z\" fill=\"#000000\" fill-rule=\"evenodd\" fill-opacity=\"1\" /><path clip-path=\"url(#clip820)\" d=\"M1895.67 254.985 Q1890.5 254.985 1888.51 256.166 Q1886.52 257.346 1886.52 260.194 Q1886.52 262.462 1888 263.805 Q1889.51 265.124 1892.08 265.124 Q1895.62 265.124 1897.75 262.624 Q1899.9 260.101 1899.9 255.934 L1899.9 254.985 L1895.67 254.985 M1904.16 253.226 L1904.16 268.018 L1899.9 268.018 L1899.9 264.082 Q1898.44 266.443 1896.27 267.578 Q1894.09 268.689 1890.94 268.689 Q1886.96 268.689 1884.6 266.467 Q1882.26 264.221 1882.26 260.471 Q1882.26 256.096 1885.18 253.874 Q1888.12 251.652 1893.93 251.652 L1899.9 251.652 L1899.9 251.235 Q1899.9 248.295 1897.96 246.698 Q1896.04 245.078 1892.54 245.078 Q1890.32 245.078 1888.21 245.61 Q1886.11 246.143 1884.16 247.207 L1884.16 243.272 Q1886.5 242.37 1888.7 241.93 Q1890.9 241.467 1892.98 241.467 Q1898.61 241.467 1901.38 244.383 Q1904.16 247.3 1904.16 253.226 Z\" fill=\"#000000\" fill-rule=\"evenodd\" fill-opacity=\"1\" /><path clip-path=\"url(#clip820)\" d=\"M1923.72 270.425 Q1921.92 275.055 1920.2 276.467 Q1918.49 277.879 1915.62 277.879 L1912.22 277.879 L1912.22 274.314 L1914.72 274.314 Q1916.48 274.314 1917.45 273.48 Q1918.42 272.647 1919.6 269.545 L1920.37 267.601 L1909.88 242.092 L1914.39 242.092 L1922.5 262.369 L1930.6 242.092 L1935.11 242.092 L1923.72 270.425 Z\" fill=\"#000000\" fill-rule=\"evenodd\" fill-opacity=\"1\" /><path clip-path=\"url(#clip820)\" d=\"M1940.99 231.999 L1945.25 231.999 L1945.25 268.018 L1940.99 268.018 L1940.99 231.999 Z\" fill=\"#000000\" fill-rule=\"evenodd\" fill-opacity=\"1\" /><path clip-path=\"url(#clip820)\" d=\"M1964.21 245.078 Q1960.78 245.078 1958.79 247.763 Q1956.8 250.425 1956.8 255.078 Q1956.8 259.731 1958.77 262.416 Q1960.76 265.078 1964.21 265.078 Q1967.61 265.078 1969.6 262.393 Q1971.59 259.707 1971.59 255.078 Q1971.59 250.471 1969.6 247.786 Q1967.61 245.078 1964.21 245.078 M1964.21 241.467 Q1969.76 241.467 1972.93 245.078 Q1976.11 248.689 1976.11 255.078 Q1976.11 261.444 1972.93 265.078 Q1969.76 268.689 1964.21 268.689 Q1958.63 268.689 1955.46 265.078 Q1952.31 261.444 1952.31 255.078 Q1952.31 248.689 1955.46 245.078 Q1958.63 241.467 1964.21 241.467 Z\" fill=\"#000000\" fill-rule=\"evenodd\" fill-opacity=\"1\" /><path clip-path=\"url(#clip820)\" d=\"M1998.19 246.073 Q1997.47 245.657 1996.62 245.471 Q1995.78 245.263 1994.76 245.263 Q1991.15 245.263 1989.21 247.624 Q1987.29 249.962 1987.29 254.36 L1987.29 268.018 L1983 268.018 L1983 242.092 L1987.29 242.092 L1987.29 246.12 Q1988.63 243.758 1990.78 242.624 Q1992.93 241.467 1996.01 241.467 Q1996.45 241.467 1996.99 241.536 Q1997.52 241.583 1998.17 241.698 L1998.19 246.073 Z\" fill=\"#000000\" fill-rule=\"evenodd\" fill-opacity=\"1\" /><path clip-path=\"url(#clip820)\" d=\"M2015.57 253.133 L2028.05 253.133 L2028.05 256.93 L2015.57 256.93 L2015.57 253.133 Z\" fill=\"#000000\" fill-rule=\"evenodd\" fill-opacity=\"1\" /><path clip-path=\"url(#clip820)\" d=\"M2054.53 264.082 L2070.85 264.082 L2070.85 268.018 L2048.91 268.018 L2048.91 264.082 Q2051.57 261.328 2056.15 256.698 Q2060.76 252.045 2061.94 250.703 Q2064.18 248.18 2065.06 246.444 Q2065.97 244.684 2065.97 242.995 Q2065.97 240.24 2064.02 238.504 Q2062.1 236.768 2059 236.768 Q2056.8 236.768 2054.35 237.532 Q2051.92 238.295 2049.14 239.846 L2049.14 235.124 Q2051.96 233.99 2054.42 233.411 Q2056.87 232.833 2058.91 232.833 Q2064.28 232.833 2067.47 235.518 Q2070.67 238.203 2070.67 242.694 Q2070.67 244.823 2069.86 246.745 Q2069.07 248.643 2066.96 251.235 Q2066.38 251.907 2063.28 255.124 Q2060.18 258.319 2054.53 264.082 Z\" fill=\"#000000\" fill-rule=\"evenodd\" fill-opacity=\"1\" /><path clip-path=\"url(#clip820)\" d=\"M2090.53 233.458 L2119.76 233.458 L2119.76 237.393 L2107.49 237.393 L2107.49 268.018 L2102.8 268.018 L2102.8 237.393 L2090.53 237.393 L2090.53 233.458 Z\" fill=\"#000000\" fill-rule=\"evenodd\" fill-opacity=\"1\" /><path clip-path=\"url(#clip820)\" d=\"M2138.21 253.99 L2138.21 256.073 L2118.63 256.073 Q2118.91 260.471 2121.27 262.786 Q2123.65 265.078 2127.89 265.078 Q2130.34 265.078 2132.63 264.476 Q2134.95 263.874 2137.22 262.67 L2137.22 266.698 Q2134.92 267.67 2132.52 268.18 Q2130.11 268.689 2127.63 268.689 Q2121.43 268.689 2117.8 265.078 Q2114.18 261.467 2114.18 255.309 Q2114.18 248.944 2117.61 245.217 Q2121.06 241.467 2126.89 241.467 Q2132.12 241.467 2135.16 244.846 Q2138.21 248.203 2138.21 253.99 M2133.95 252.74 Q2133.91 249.245 2131.98 247.161 Q2130.09 245.078 2126.94 245.078 Q2123.37 245.078 2121.22 247.092 Q2119.09 249.106 2118.77 252.763 L2133.95 252.74 Z\" fill=\"#000000\" fill-rule=\"evenodd\" fill-opacity=\"1\" /><path clip-path=\"url(#clip820)\" d=\"M2160.23 246.073 Q2159.51 245.657 2158.65 245.471 Q2157.82 245.263 2156.8 245.263 Q2153.19 245.263 2151.24 247.624 Q2149.32 249.962 2149.32 254.36 L2149.32 268.018 L2145.04 268.018 L2145.04 242.092 L2149.32 242.092 L2149.32 246.12 Q2150.67 243.758 2152.82 242.624 Q2154.97 241.467 2158.05 241.467 Q2158.49 241.467 2159.02 241.536 Q2159.55 241.583 2160.2 241.698 L2160.23 246.073 Z\" fill=\"#000000\" fill-rule=\"evenodd\" fill-opacity=\"1\" /><path clip-path=\"url(#clip820)\" d=\"M2184.04 247.069 Q2185.64 244.198 2187.86 242.833 Q2190.09 241.467 2193.1 241.467 Q2197.15 241.467 2199.35 244.314 Q2201.54 247.138 2201.54 252.369 L2201.54 268.018 L2197.26 268.018 L2197.26 252.508 Q2197.26 248.782 2195.94 246.976 Q2194.62 245.17 2191.92 245.17 Q2188.6 245.17 2186.68 247.37 Q2184.76 249.569 2184.76 253.365 L2184.76 268.018 L2180.48 268.018 L2180.48 252.508 Q2180.48 248.758 2179.16 246.976 Q2177.84 245.17 2175.09 245.17 Q2171.82 245.17 2169.9 247.393 Q2167.98 249.592 2167.98 253.365 L2167.98 268.018 L2163.7 268.018 L2163.7 242.092 L2167.98 242.092 L2167.98 246.12 Q2169.44 243.735 2171.48 242.601 Q2173.51 241.467 2176.31 241.467 Q2179.14 241.467 2181.1 242.902 Q2183.1 244.337 2184.04 247.069 Z\" fill=\"#000000\" fill-rule=\"evenodd\" fill-opacity=\"1\" /><path clip-path=\"url(#clip820)\" d=\"M2220.09 245.078 Q2216.66 245.078 2214.67 247.763 Q2212.68 250.425 2212.68 255.078 Q2212.68 259.731 2214.65 262.416 Q2216.64 265.078 2220.09 265.078 Q2223.49 265.078 2225.48 262.393 Q2227.47 259.707 2227.47 255.078 Q2227.47 250.471 2225.48 247.786 Q2223.49 245.078 2220.09 245.078 M2220.09 241.467 Q2225.64 241.467 2228.81 245.078 Q2231.98 248.689 2231.98 255.078 Q2231.98 261.444 2228.81 265.078 Q2225.64 268.689 2220.09 268.689 Q2214.51 268.689 2211.34 265.078 Q2208.19 261.444 2208.19 255.078 Q2208.19 248.689 2211.34 245.078 Q2214.51 241.467 2220.09 241.467 Z\" fill=\"#000000\" fill-rule=\"evenodd\" fill-opacity=\"1\" /><polyline clip-path=\"url(#clip820)\" style=\"stroke:#c271d2; stroke-linecap:butt; stroke-linejoin:round; stroke-width:4; stroke-opacity:1; fill:none\" points=\"\n  1481.87,302.578 1626.79,302.578 \n  \"/>\n<path clip-path=\"url(#clip820)\" d=\"M1673.19 286.432 L1673.19 290.992 Q1670.53 289.719 1668.17 289.094 Q1665.81 288.469 1663.61 288.469 Q1659.79 288.469 1657.7 289.95 Q1655.64 291.432 1655.64 294.163 Q1655.64 296.455 1657.01 297.635 Q1658.4 298.793 1662.24 299.51 L1665.07 300.089 Q1670.3 301.085 1672.77 303.608 Q1675.27 306.108 1675.27 310.321 Q1675.27 315.344 1671.89 317.936 Q1668.54 320.529 1662.03 320.529 Q1659.58 320.529 1656.8 319.973 Q1654.05 319.418 1651.08 318.33 L1651.08 313.515 Q1653.93 315.112 1656.66 315.922 Q1659.39 316.733 1662.03 316.733 Q1666.04 316.733 1668.21 315.159 Q1670.39 313.584 1670.39 310.668 Q1670.39 308.122 1668.82 306.686 Q1667.27 305.251 1663.7 304.534 L1660.85 303.978 Q1655.62 302.936 1653.28 300.714 Q1650.95 298.492 1650.95 294.534 Q1650.95 289.95 1654.16 287.311 Q1657.4 284.673 1663.08 284.673 Q1665.51 284.673 1668.03 285.112 Q1670.55 285.552 1673.19 286.432 Z\" fill=\"#000000\" fill-rule=\"evenodd\" fill-opacity=\"1\" /><path clip-path=\"url(#clip820)\" d=\"M1704.56 305.83 L1704.56 307.913 L1684.97 307.913 Q1685.25 312.311 1687.61 314.626 Q1690 316.918 1694.23 316.918 Q1696.69 316.918 1698.98 316.316 Q1701.29 315.714 1703.56 314.51 L1703.56 318.538 Q1701.27 319.51 1698.86 320.02 Q1696.45 320.529 1693.98 320.529 Q1687.77 320.529 1684.14 316.918 Q1680.53 313.307 1680.53 307.149 Q1680.53 300.784 1683.95 297.057 Q1687.4 293.307 1693.24 293.307 Q1698.47 293.307 1701.5 296.686 Q1704.56 300.043 1704.56 305.83 M1700.3 304.58 Q1700.25 301.085 1698.33 299.001 Q1696.43 296.918 1693.28 296.918 Q1689.72 296.918 1687.57 298.932 Q1685.44 300.946 1685.11 304.603 L1700.3 304.58 M1696.2 281.941 L1700.81 281.941 L1693.26 290.645 L1689.72 290.645 L1696.2 281.941 Z\" fill=\"#000000\" fill-rule=\"evenodd\" fill-opacity=\"1\" /><path clip-path=\"url(#clip820)\" d=\"M1726.57 297.913 Q1725.85 297.497 1725 297.311 Q1724.16 297.103 1723.14 297.103 Q1719.53 297.103 1717.59 299.464 Q1715.67 301.802 1715.67 306.2 L1715.67 319.858 L1711.39 319.858 L1711.39 293.932 L1715.67 293.932 L1715.67 297.96 Q1717.01 295.598 1719.16 294.464 Q1721.32 293.307 1724.39 293.307 Q1724.83 293.307 1725.37 293.376 Q1725.9 293.423 1726.55 293.538 L1726.57 297.913 Z\" fill=\"#000000\" fill-rule=\"evenodd\" fill-opacity=\"1\" /><path clip-path=\"url(#clip820)\" d=\"M1731.04 293.932 L1735.3 293.932 L1735.3 319.858 L1731.04 319.858 L1731.04 293.932 M1731.04 283.839 L1735.3 283.839 L1735.3 289.233 L1731.04 289.233 L1731.04 283.839 Z\" fill=\"#000000\" fill-rule=\"evenodd\" fill-opacity=\"1\" /><path clip-path=\"url(#clip820)\" d=\"M1766.38 305.83 L1766.38 307.913 L1746.8 307.913 Q1747.08 312.311 1749.44 314.626 Q1751.82 316.918 1756.06 316.918 Q1758.51 316.918 1760.81 316.316 Q1763.12 315.714 1765.39 314.51 L1765.39 318.538 Q1763.1 319.51 1760.69 320.02 Q1758.28 320.529 1755.81 320.529 Q1749.6 320.529 1745.97 316.918 Q1742.36 313.307 1742.36 307.149 Q1742.36 300.784 1745.78 297.057 Q1749.23 293.307 1755.07 293.307 Q1760.3 293.307 1763.33 296.686 Q1766.38 300.043 1766.38 305.83 M1762.13 304.58 Q1762.08 301.085 1760.16 299.001 Q1758.26 296.918 1755.11 296.918 Q1751.55 296.918 1749.39 298.932 Q1747.26 300.946 1746.94 304.603 L1762.13 304.58 Z\" fill=\"#000000\" fill-rule=\"evenodd\" fill-opacity=\"1\" /><path clip-path=\"url(#clip820)\" d=\"M1805.51 297.867 L1805.51 283.839 L1809.76 283.839 L1809.76 319.858 L1805.51 319.858 L1805.51 315.969 Q1804.16 318.283 1802.1 319.418 Q1800.07 320.529 1797.19 320.529 Q1792.5 320.529 1789.53 316.779 Q1786.59 313.029 1786.59 306.918 Q1786.59 300.807 1789.53 297.057 Q1792.5 293.307 1797.19 293.307 Q1800.07 293.307 1802.1 294.441 Q1804.16 295.552 1805.51 297.867 M1790.99 306.918 Q1790.99 311.617 1792.91 314.302 Q1794.86 316.964 1798.24 316.964 Q1801.62 316.964 1803.56 314.302 Q1805.51 311.617 1805.51 306.918 Q1805.51 302.219 1803.56 299.557 Q1801.62 296.872 1798.24 296.872 Q1794.86 296.872 1792.91 299.557 Q1790.99 302.219 1790.99 306.918 Z\" fill=\"#000000\" fill-rule=\"evenodd\" fill-opacity=\"1\" /><path clip-path=\"url(#clip820)\" d=\"M1840.71 305.83 L1840.71 307.913 L1821.13 307.913 Q1821.41 312.311 1823.77 314.626 Q1826.15 316.918 1830.39 316.918 Q1832.84 316.918 1835.13 316.316 Q1837.45 315.714 1839.72 314.51 L1839.72 318.538 Q1837.43 319.51 1835.02 320.02 Q1832.61 320.529 1830.13 320.529 Q1823.93 320.529 1820.3 316.918 Q1816.69 313.307 1816.69 307.149 Q1816.69 300.784 1820.11 297.057 Q1823.56 293.307 1829.39 293.307 Q1834.63 293.307 1837.66 296.686 Q1840.71 300.043 1840.71 305.83 M1836.45 304.58 Q1836.41 301.085 1834.49 299.001 Q1832.59 296.918 1829.44 296.918 Q1825.88 296.918 1823.72 298.932 Q1821.59 300.946 1821.27 304.603 L1836.45 304.58 Z\" fill=\"#000000\" fill-rule=\"evenodd\" fill-opacity=\"1\" /><path clip-path=\"url(#clip820)\" d=\"M1858.17 285.298 L1887.4 285.298 L1887.4 289.233 L1875.13 289.233 L1875.13 319.858 L1870.44 319.858 L1870.44 289.233 L1858.17 289.233 L1858.17 285.298 Z\" fill=\"#000000\" fill-rule=\"evenodd\" fill-opacity=\"1\" /><path clip-path=\"url(#clip820)\" d=\"M1895.67 306.825 Q1890.5 306.825 1888.51 308.006 Q1886.52 309.186 1886.52 312.034 Q1886.52 314.302 1888 315.645 Q1889.51 316.964 1892.08 316.964 Q1895.62 316.964 1897.75 314.464 Q1899.9 311.941 1899.9 307.774 L1899.9 306.825 L1895.67 306.825 M1904.16 305.066 L1904.16 319.858 L1899.9 319.858 L1899.9 315.922 Q1898.44 318.283 1896.27 319.418 Q1894.09 320.529 1890.94 320.529 Q1886.96 320.529 1884.6 318.307 Q1882.26 316.061 1882.26 312.311 Q1882.26 307.936 1885.18 305.714 Q1888.12 303.492 1893.93 303.492 L1899.9 303.492 L1899.9 303.075 Q1899.9 300.135 1897.96 298.538 Q1896.04 296.918 1892.54 296.918 Q1890.32 296.918 1888.21 297.45 Q1886.11 297.983 1884.16 299.047 L1884.16 295.112 Q1886.5 294.21 1888.7 293.77 Q1890.9 293.307 1892.98 293.307 Q1898.61 293.307 1901.38 296.223 Q1904.16 299.14 1904.16 305.066 Z\" fill=\"#000000\" fill-rule=\"evenodd\" fill-opacity=\"1\" /><path clip-path=\"url(#clip820)\" d=\"M1923.72 322.265 Q1921.92 326.895 1920.2 328.307 Q1918.49 329.719 1915.62 329.719 L1912.22 329.719 L1912.22 326.154 L1914.72 326.154 Q1916.48 326.154 1917.45 325.32 Q1918.42 324.487 1919.6 321.385 L1920.37 319.441 L1909.88 293.932 L1914.39 293.932 L1922.5 314.209 L1930.6 293.932 L1935.11 293.932 L1923.72 322.265 Z\" fill=\"#000000\" fill-rule=\"evenodd\" fill-opacity=\"1\" /><path clip-path=\"url(#clip820)\" d=\"M1940.99 283.839 L1945.25 283.839 L1945.25 319.858 L1940.99 319.858 L1940.99 283.839 Z\" fill=\"#000000\" fill-rule=\"evenodd\" fill-opacity=\"1\" /><path clip-path=\"url(#clip820)\" d=\"M1964.21 296.918 Q1960.78 296.918 1958.79 299.603 Q1956.8 302.265 1956.8 306.918 Q1956.8 311.571 1958.77 314.256 Q1960.76 316.918 1964.21 316.918 Q1967.61 316.918 1969.6 314.233 Q1971.59 311.547 1971.59 306.918 Q1971.59 302.311 1969.6 299.626 Q1967.61 296.918 1964.21 296.918 M1964.21 293.307 Q1969.76 293.307 1972.93 296.918 Q1976.11 300.529 1976.11 306.918 Q1976.11 313.284 1972.93 316.918 Q1969.76 320.529 1964.21 320.529 Q1958.63 320.529 1955.46 316.918 Q1952.31 313.284 1952.31 306.918 Q1952.31 300.529 1955.46 296.918 Q1958.63 293.307 1964.21 293.307 Z\" fill=\"#000000\" fill-rule=\"evenodd\" fill-opacity=\"1\" /><path clip-path=\"url(#clip820)\" d=\"M1998.19 297.913 Q1997.47 297.497 1996.62 297.311 Q1995.78 297.103 1994.76 297.103 Q1991.15 297.103 1989.21 299.464 Q1987.29 301.802 1987.29 306.2 L1987.29 319.858 L1983 319.858 L1983 293.932 L1987.29 293.932 L1987.29 297.96 Q1988.63 295.598 1990.78 294.464 Q1992.93 293.307 1996.01 293.307 Q1996.45 293.307 1996.99 293.376 Q1997.52 293.423 1998.17 293.538 L1998.19 297.913 Z\" fill=\"#000000\" fill-rule=\"evenodd\" fill-opacity=\"1\" /><path clip-path=\"url(#clip820)\" d=\"M2015.57 304.973 L2028.05 304.973 L2028.05 308.77 L2015.57 308.77 L2015.57 304.973 Z\" fill=\"#000000\" fill-rule=\"evenodd\" fill-opacity=\"1\" /><path clip-path=\"url(#clip820)\" d=\"M2064.67 301.223 Q2068.03 301.941 2069.9 304.209 Q2071.8 306.478 2071.8 309.811 Q2071.8 314.927 2068.28 317.728 Q2064.76 320.529 2058.28 320.529 Q2056.11 320.529 2053.79 320.089 Q2051.5 319.672 2049.05 318.816 L2049.05 314.302 Q2050.99 315.436 2053.3 316.015 Q2055.62 316.594 2058.14 316.594 Q2062.54 316.594 2064.83 314.858 Q2067.15 313.121 2067.15 309.811 Q2067.15 306.756 2064.99 305.043 Q2062.86 303.307 2059.05 303.307 L2055.02 303.307 L2055.02 299.464 L2059.23 299.464 Q2062.68 299.464 2064.51 298.098 Q2066.34 296.71 2066.34 294.117 Q2066.34 291.455 2064.44 290.043 Q2062.56 288.608 2059.05 288.608 Q2057.12 288.608 2054.93 289.024 Q2052.73 289.441 2050.09 290.321 L2050.09 286.154 Q2052.75 285.413 2055.06 285.043 Q2057.4 284.673 2059.46 284.673 Q2064.79 284.673 2067.89 287.103 Q2070.99 289.51 2070.99 293.631 Q2070.99 296.501 2069.35 298.492 Q2067.7 300.46 2064.67 301.223 Z\" fill=\"#000000\" fill-rule=\"evenodd\" fill-opacity=\"1\" /><path clip-path=\"url(#clip820)\" d=\"M2090.53 285.298 L2119.76 285.298 L2119.76 289.233 L2107.49 289.233 L2107.49 319.858 L2102.8 319.858 L2102.8 289.233 L2090.53 289.233 L2090.53 285.298 Z\" fill=\"#000000\" fill-rule=\"evenodd\" fill-opacity=\"1\" /><path clip-path=\"url(#clip820)\" d=\"M2138.21 305.83 L2138.21 307.913 L2118.63 307.913 Q2118.91 312.311 2121.27 314.626 Q2123.65 316.918 2127.89 316.918 Q2130.34 316.918 2132.63 316.316 Q2134.95 315.714 2137.22 314.51 L2137.22 318.538 Q2134.92 319.51 2132.52 320.02 Q2130.11 320.529 2127.63 320.529 Q2121.43 320.529 2117.8 316.918 Q2114.18 313.307 2114.18 307.149 Q2114.18 300.784 2117.61 297.057 Q2121.06 293.307 2126.89 293.307 Q2132.12 293.307 2135.16 296.686 Q2138.21 300.043 2138.21 305.83 M2133.95 304.58 Q2133.91 301.085 2131.98 299.001 Q2130.09 296.918 2126.94 296.918 Q2123.37 296.918 2121.22 298.932 Q2119.09 300.946 2118.77 304.603 L2133.95 304.58 Z\" fill=\"#000000\" fill-rule=\"evenodd\" fill-opacity=\"1\" /><path clip-path=\"url(#clip820)\" d=\"M2160.23 297.913 Q2159.51 297.497 2158.65 297.311 Q2157.82 297.103 2156.8 297.103 Q2153.19 297.103 2151.24 299.464 Q2149.32 301.802 2149.32 306.2 L2149.32 319.858 L2145.04 319.858 L2145.04 293.932 L2149.32 293.932 L2149.32 297.96 Q2150.67 295.598 2152.82 294.464 Q2154.97 293.307 2158.05 293.307 Q2158.49 293.307 2159.02 293.376 Q2159.55 293.423 2160.2 293.538 L2160.23 297.913 Z\" fill=\"#000000\" fill-rule=\"evenodd\" fill-opacity=\"1\" /><path clip-path=\"url(#clip820)\" d=\"M2184.04 298.909 Q2185.64 296.038 2187.86 294.673 Q2190.09 293.307 2193.1 293.307 Q2197.15 293.307 2199.35 296.154 Q2201.54 298.978 2201.54 304.209 L2201.54 319.858 L2197.26 319.858 L2197.26 304.348 Q2197.26 300.622 2195.94 298.816 Q2194.62 297.01 2191.92 297.01 Q2188.6 297.01 2186.68 299.21 Q2184.76 301.409 2184.76 305.205 L2184.76 319.858 L2180.48 319.858 L2180.48 304.348 Q2180.48 300.598 2179.16 298.816 Q2177.84 297.01 2175.09 297.01 Q2171.82 297.01 2169.9 299.233 Q2167.98 301.432 2167.98 305.205 L2167.98 319.858 L2163.7 319.858 L2163.7 293.932 L2167.98 293.932 L2167.98 297.96 Q2169.44 295.575 2171.48 294.441 Q2173.51 293.307 2176.31 293.307 Q2179.14 293.307 2181.1 294.742 Q2183.1 296.177 2184.04 298.909 Z\" fill=\"#000000\" fill-rule=\"evenodd\" fill-opacity=\"1\" /><path clip-path=\"url(#clip820)\" d=\"M2220.09 296.918 Q2216.66 296.918 2214.67 299.603 Q2212.68 302.265 2212.68 306.918 Q2212.68 311.571 2214.65 314.256 Q2216.64 316.918 2220.09 316.918 Q2223.49 316.918 2225.48 314.233 Q2227.47 311.547 2227.47 306.918 Q2227.47 302.311 2225.48 299.626 Q2223.49 296.918 2220.09 296.918 M2220.09 293.307 Q2225.64 293.307 2228.81 296.918 Q2231.98 300.529 2231.98 306.918 Q2231.98 313.284 2228.81 316.918 Q2225.64 320.529 2220.09 320.529 Q2214.51 320.529 2211.34 316.918 Q2208.19 313.284 2208.19 306.918 Q2208.19 300.529 2211.34 296.918 Q2214.51 293.307 2220.09 293.307 Z\" fill=\"#000000\" fill-rule=\"evenodd\" fill-opacity=\"1\" /><polyline clip-path=\"url(#clip820)\" style=\"stroke:#ac8d18; stroke-linecap:butt; stroke-linejoin:round; stroke-width:4; stroke-opacity:1; fill:none\" points=\"\n  1481.87,354.418 1626.79,354.418 \n  \"/>\n<path clip-path=\"url(#clip820)\" d=\"M1673.19 338.272 L1673.19 342.832 Q1670.53 341.559 1668.17 340.934 Q1665.81 340.309 1663.61 340.309 Q1659.79 340.309 1657.7 341.79 Q1655.64 343.272 1655.64 346.003 Q1655.64 348.295 1657.01 349.475 Q1658.4 350.633 1662.24 351.35 L1665.07 351.929 Q1670.3 352.925 1672.77 355.448 Q1675.27 357.948 1675.27 362.161 Q1675.27 367.184 1671.89 369.776 Q1668.54 372.369 1662.03 372.369 Q1659.58 372.369 1656.8 371.813 Q1654.05 371.258 1651.08 370.17 L1651.08 365.355 Q1653.93 366.952 1656.66 367.762 Q1659.39 368.573 1662.03 368.573 Q1666.04 368.573 1668.21 366.999 Q1670.39 365.424 1670.39 362.508 Q1670.39 359.962 1668.82 358.526 Q1667.27 357.091 1663.7 356.374 L1660.85 355.818 Q1655.62 354.776 1653.28 352.554 Q1650.95 350.332 1650.95 346.374 Q1650.95 341.79 1654.16 339.151 Q1657.4 336.513 1663.08 336.513 Q1665.51 336.513 1668.03 336.952 Q1670.55 337.392 1673.19 338.272 Z\" fill=\"#000000\" fill-rule=\"evenodd\" fill-opacity=\"1\" /><path clip-path=\"url(#clip820)\" d=\"M1704.56 357.67 L1704.56 359.753 L1684.97 359.753 Q1685.25 364.151 1687.61 366.466 Q1690 368.758 1694.23 368.758 Q1696.69 368.758 1698.98 368.156 Q1701.29 367.554 1703.56 366.35 L1703.56 370.378 Q1701.27 371.35 1698.86 371.86 Q1696.45 372.369 1693.98 372.369 Q1687.77 372.369 1684.14 368.758 Q1680.53 365.147 1680.53 358.989 Q1680.53 352.624 1683.95 348.897 Q1687.4 345.147 1693.24 345.147 Q1698.47 345.147 1701.5 348.526 Q1704.56 351.883 1704.56 357.67 M1700.3 356.42 Q1700.25 352.925 1698.33 350.841 Q1696.43 348.758 1693.28 348.758 Q1689.72 348.758 1687.57 350.772 Q1685.44 352.786 1685.11 356.443 L1700.3 356.42 M1696.2 333.781 L1700.81 333.781 L1693.26 342.485 L1689.72 342.485 L1696.2 333.781 Z\" fill=\"#000000\" fill-rule=\"evenodd\" fill-opacity=\"1\" /><path clip-path=\"url(#clip820)\" d=\"M1726.57 349.753 Q1725.85 349.337 1725 349.151 Q1724.16 348.943 1723.14 348.943 Q1719.53 348.943 1717.59 351.304 Q1715.67 353.642 1715.67 358.04 L1715.67 371.698 L1711.39 371.698 L1711.39 345.772 L1715.67 345.772 L1715.67 349.8 Q1717.01 347.438 1719.16 346.304 Q1721.32 345.147 1724.39 345.147 Q1724.83 345.147 1725.37 345.216 Q1725.9 345.263 1726.55 345.378 L1726.57 349.753 Z\" fill=\"#000000\" fill-rule=\"evenodd\" fill-opacity=\"1\" /><path clip-path=\"url(#clip820)\" d=\"M1731.04 345.772 L1735.3 345.772 L1735.3 371.698 L1731.04 371.698 L1731.04 345.772 M1731.04 335.679 L1735.3 335.679 L1735.3 341.073 L1731.04 341.073 L1731.04 335.679 Z\" fill=\"#000000\" fill-rule=\"evenodd\" fill-opacity=\"1\" /><path clip-path=\"url(#clip820)\" d=\"M1766.38 357.67 L1766.38 359.753 L1746.8 359.753 Q1747.08 364.151 1749.44 366.466 Q1751.82 368.758 1756.06 368.758 Q1758.51 368.758 1760.81 368.156 Q1763.12 367.554 1765.39 366.35 L1765.39 370.378 Q1763.1 371.35 1760.69 371.86 Q1758.28 372.369 1755.81 372.369 Q1749.6 372.369 1745.97 368.758 Q1742.36 365.147 1742.36 358.989 Q1742.36 352.624 1745.78 348.897 Q1749.23 345.147 1755.07 345.147 Q1760.3 345.147 1763.33 348.526 Q1766.38 351.883 1766.38 357.67 M1762.13 356.42 Q1762.08 352.925 1760.16 350.841 Q1758.26 348.758 1755.11 348.758 Q1751.55 348.758 1749.39 350.772 Q1747.26 352.786 1746.94 356.443 L1762.13 356.42 Z\" fill=\"#000000\" fill-rule=\"evenodd\" fill-opacity=\"1\" /><path clip-path=\"url(#clip820)\" d=\"M1805.51 349.707 L1805.51 335.679 L1809.76 335.679 L1809.76 371.698 L1805.51 371.698 L1805.51 367.809 Q1804.16 370.123 1802.1 371.258 Q1800.07 372.369 1797.19 372.369 Q1792.5 372.369 1789.53 368.619 Q1786.59 364.869 1786.59 358.758 Q1786.59 352.647 1789.53 348.897 Q1792.5 345.147 1797.19 345.147 Q1800.07 345.147 1802.1 346.281 Q1804.16 347.392 1805.51 349.707 M1790.99 358.758 Q1790.99 363.457 1792.91 366.142 Q1794.86 368.804 1798.24 368.804 Q1801.62 368.804 1803.56 366.142 Q1805.51 363.457 1805.51 358.758 Q1805.51 354.059 1803.56 351.397 Q1801.62 348.712 1798.24 348.712 Q1794.86 348.712 1792.91 351.397 Q1790.99 354.059 1790.99 358.758 Z\" fill=\"#000000\" fill-rule=\"evenodd\" fill-opacity=\"1\" /><path clip-path=\"url(#clip820)\" d=\"M1840.71 357.67 L1840.71 359.753 L1821.13 359.753 Q1821.41 364.151 1823.77 366.466 Q1826.15 368.758 1830.39 368.758 Q1832.84 368.758 1835.13 368.156 Q1837.45 367.554 1839.72 366.35 L1839.72 370.378 Q1837.43 371.35 1835.02 371.86 Q1832.61 372.369 1830.13 372.369 Q1823.93 372.369 1820.3 368.758 Q1816.69 365.147 1816.69 358.989 Q1816.69 352.624 1820.11 348.897 Q1823.56 345.147 1829.39 345.147 Q1834.63 345.147 1837.66 348.526 Q1840.71 351.883 1840.71 357.67 M1836.45 356.42 Q1836.41 352.925 1834.49 350.841 Q1832.59 348.758 1829.44 348.758 Q1825.88 348.758 1823.72 350.772 Q1821.59 352.786 1821.27 356.443 L1836.45 356.42 Z\" fill=\"#000000\" fill-rule=\"evenodd\" fill-opacity=\"1\" /><path clip-path=\"url(#clip820)\" d=\"M1858.17 337.138 L1887.4 337.138 L1887.4 341.073 L1875.13 341.073 L1875.13 371.698 L1870.44 371.698 L1870.44 341.073 L1858.17 341.073 L1858.17 337.138 Z\" fill=\"#000000\" fill-rule=\"evenodd\" fill-opacity=\"1\" /><path clip-path=\"url(#clip820)\" d=\"M1895.67 358.665 Q1890.5 358.665 1888.51 359.846 Q1886.52 361.026 1886.52 363.874 Q1886.52 366.142 1888 367.485 Q1889.51 368.804 1892.08 368.804 Q1895.62 368.804 1897.75 366.304 Q1899.9 363.781 1899.9 359.614 L1899.9 358.665 L1895.67 358.665 M1904.16 356.906 L1904.16 371.698 L1899.9 371.698 L1899.9 367.762 Q1898.44 370.123 1896.27 371.258 Q1894.09 372.369 1890.94 372.369 Q1886.96 372.369 1884.6 370.147 Q1882.26 367.901 1882.26 364.151 Q1882.26 359.776 1885.18 357.554 Q1888.12 355.332 1893.93 355.332 L1899.9 355.332 L1899.9 354.915 Q1899.9 351.975 1897.96 350.378 Q1896.04 348.758 1892.54 348.758 Q1890.32 348.758 1888.21 349.29 Q1886.11 349.823 1884.16 350.887 L1884.16 346.952 Q1886.5 346.05 1888.7 345.61 Q1890.9 345.147 1892.98 345.147 Q1898.61 345.147 1901.38 348.063 Q1904.16 350.98 1904.16 356.906 Z\" fill=\"#000000\" fill-rule=\"evenodd\" fill-opacity=\"1\" /><path clip-path=\"url(#clip820)\" d=\"M1923.72 374.105 Q1921.92 378.735 1920.2 380.147 Q1918.49 381.559 1915.62 381.559 L1912.22 381.559 L1912.22 377.994 L1914.72 377.994 Q1916.48 377.994 1917.45 377.16 Q1918.42 376.327 1919.6 373.225 L1920.37 371.281 L1909.88 345.772 L1914.39 345.772 L1922.5 366.049 L1930.6 345.772 L1935.11 345.772 L1923.72 374.105 Z\" fill=\"#000000\" fill-rule=\"evenodd\" fill-opacity=\"1\" /><path clip-path=\"url(#clip820)\" d=\"M1940.99 335.679 L1945.25 335.679 L1945.25 371.698 L1940.99 371.698 L1940.99 335.679 Z\" fill=\"#000000\" fill-rule=\"evenodd\" fill-opacity=\"1\" /><path clip-path=\"url(#clip820)\" d=\"M1964.21 348.758 Q1960.78 348.758 1958.79 351.443 Q1956.8 354.105 1956.8 358.758 Q1956.8 363.411 1958.77 366.096 Q1960.76 368.758 1964.21 368.758 Q1967.61 368.758 1969.6 366.073 Q1971.59 363.387 1971.59 358.758 Q1971.59 354.151 1969.6 351.466 Q1967.61 348.758 1964.21 348.758 M1964.21 345.147 Q1969.76 345.147 1972.93 348.758 Q1976.11 352.369 1976.11 358.758 Q1976.11 365.124 1972.93 368.758 Q1969.76 372.369 1964.21 372.369 Q1958.63 372.369 1955.46 368.758 Q1952.31 365.124 1952.31 358.758 Q1952.31 352.369 1955.46 348.758 Q1958.63 345.147 1964.21 345.147 Z\" fill=\"#000000\" fill-rule=\"evenodd\" fill-opacity=\"1\" /><path clip-path=\"url(#clip820)\" d=\"M1998.19 349.753 Q1997.47 349.337 1996.62 349.151 Q1995.78 348.943 1994.76 348.943 Q1991.15 348.943 1989.21 351.304 Q1987.29 353.642 1987.29 358.04 L1987.29 371.698 L1983 371.698 L1983 345.772 L1987.29 345.772 L1987.29 349.8 Q1988.63 347.438 1990.78 346.304 Q1992.93 345.147 1996.01 345.147 Q1996.45 345.147 1996.99 345.216 Q1997.52 345.263 1998.17 345.378 L1998.19 349.753 Z\" fill=\"#000000\" fill-rule=\"evenodd\" fill-opacity=\"1\" /><path clip-path=\"url(#clip820)\" d=\"M2015.57 356.813 L2028.05 356.813 L2028.05 360.61 L2015.57 360.61 L2015.57 356.813 Z\" fill=\"#000000\" fill-rule=\"evenodd\" fill-opacity=\"1\" /><path clip-path=\"url(#clip820)\" d=\"M2063.35 341.212 L2051.55 359.661 L2063.35 359.661 L2063.35 341.212 M2062.12 337.138 L2068 337.138 L2068 359.661 L2072.93 359.661 L2072.93 363.549 L2068 363.549 L2068 371.698 L2063.35 371.698 L2063.35 363.549 L2047.75 363.549 L2047.75 359.036 L2062.12 337.138 Z\" fill=\"#000000\" fill-rule=\"evenodd\" fill-opacity=\"1\" /><path clip-path=\"url(#clip820)\" d=\"M2090.53 337.138 L2119.76 337.138 L2119.76 341.073 L2107.49 341.073 L2107.49 371.698 L2102.8 371.698 L2102.8 341.073 L2090.53 341.073 L2090.53 337.138 Z\" fill=\"#000000\" fill-rule=\"evenodd\" fill-opacity=\"1\" /><path clip-path=\"url(#clip820)\" d=\"M2138.21 357.67 L2138.21 359.753 L2118.63 359.753 Q2118.91 364.151 2121.27 366.466 Q2123.65 368.758 2127.89 368.758 Q2130.34 368.758 2132.63 368.156 Q2134.95 367.554 2137.22 366.35 L2137.22 370.378 Q2134.92 371.35 2132.52 371.86 Q2130.11 372.369 2127.63 372.369 Q2121.43 372.369 2117.8 368.758 Q2114.18 365.147 2114.18 358.989 Q2114.18 352.624 2117.61 348.897 Q2121.06 345.147 2126.89 345.147 Q2132.12 345.147 2135.16 348.526 Q2138.21 351.883 2138.21 357.67 M2133.95 356.42 Q2133.91 352.925 2131.98 350.841 Q2130.09 348.758 2126.94 348.758 Q2123.37 348.758 2121.22 350.772 Q2119.09 352.786 2118.77 356.443 L2133.95 356.42 Z\" fill=\"#000000\" fill-rule=\"evenodd\" fill-opacity=\"1\" /><path clip-path=\"url(#clip820)\" d=\"M2160.23 349.753 Q2159.51 349.337 2158.65 349.151 Q2157.82 348.943 2156.8 348.943 Q2153.19 348.943 2151.24 351.304 Q2149.32 353.642 2149.32 358.04 L2149.32 371.698 L2145.04 371.698 L2145.04 345.772 L2149.32 345.772 L2149.32 349.8 Q2150.67 347.438 2152.82 346.304 Q2154.97 345.147 2158.05 345.147 Q2158.49 345.147 2159.02 345.216 Q2159.55 345.263 2160.2 345.378 L2160.23 349.753 Z\" fill=\"#000000\" fill-rule=\"evenodd\" fill-opacity=\"1\" /><path clip-path=\"url(#clip820)\" d=\"M2184.04 350.749 Q2185.64 347.878 2187.86 346.513 Q2190.09 345.147 2193.1 345.147 Q2197.15 345.147 2199.35 347.994 Q2201.54 350.818 2201.54 356.049 L2201.54 371.698 L2197.26 371.698 L2197.26 356.188 Q2197.26 352.462 2195.94 350.656 Q2194.62 348.85 2191.92 348.85 Q2188.6 348.85 2186.68 351.05 Q2184.76 353.249 2184.76 357.045 L2184.76 371.698 L2180.48 371.698 L2180.48 356.188 Q2180.48 352.438 2179.16 350.656 Q2177.84 348.85 2175.09 348.85 Q2171.82 348.85 2169.9 351.073 Q2167.98 353.272 2167.98 357.045 L2167.98 371.698 L2163.7 371.698 L2163.7 345.772 L2167.98 345.772 L2167.98 349.8 Q2169.44 347.415 2171.48 346.281 Q2173.51 345.147 2176.31 345.147 Q2179.14 345.147 2181.1 346.582 Q2183.1 348.017 2184.04 350.749 Z\" fill=\"#000000\" fill-rule=\"evenodd\" fill-opacity=\"1\" /><path clip-path=\"url(#clip820)\" d=\"M2220.09 348.758 Q2216.66 348.758 2214.67 351.443 Q2212.68 354.105 2212.68 358.758 Q2212.68 363.411 2214.65 366.096 Q2216.64 368.758 2220.09 368.758 Q2223.49 368.758 2225.48 366.073 Q2227.47 363.387 2227.47 358.758 Q2227.47 354.151 2225.48 351.466 Q2223.49 348.758 2220.09 348.758 M2220.09 345.147 Q2225.64 345.147 2228.81 348.758 Q2231.98 352.369 2231.98 358.758 Q2231.98 365.124 2228.81 368.758 Q2225.64 372.369 2220.09 372.369 Q2214.51 372.369 2211.34 368.758 Q2208.19 365.124 2208.19 358.758 Q2208.19 352.369 2211.34 348.758 Q2214.51 345.147 2220.09 345.147 Z\" fill=\"#000000\" fill-rule=\"evenodd\" fill-opacity=\"1\" /><polyline clip-path=\"url(#clip820)\" style=\"stroke:#00a9ad; stroke-linecap:butt; stroke-linejoin:round; stroke-width:4; stroke-opacity:1; fill:none\" points=\"\n  1481.87,406.258 1626.79,406.258 \n  \"/>\n<path clip-path=\"url(#clip820)\" d=\"M1673.19 390.112 L1673.19 394.672 Q1670.53 393.399 1668.17 392.774 Q1665.81 392.149 1663.61 392.149 Q1659.79 392.149 1657.7 393.63 Q1655.64 395.112 1655.64 397.843 Q1655.64 400.135 1657.01 401.315 Q1658.4 402.473 1662.24 403.19 L1665.07 403.769 Q1670.3 404.765 1672.77 407.288 Q1675.27 409.788 1675.27 414.001 Q1675.27 419.024 1671.89 421.616 Q1668.54 424.209 1662.03 424.209 Q1659.58 424.209 1656.8 423.653 Q1654.05 423.098 1651.08 422.01 L1651.08 417.195 Q1653.93 418.792 1656.66 419.602 Q1659.39 420.413 1662.03 420.413 Q1666.04 420.413 1668.21 418.839 Q1670.39 417.264 1670.39 414.348 Q1670.39 411.802 1668.82 410.366 Q1667.27 408.931 1663.7 408.214 L1660.85 407.658 Q1655.62 406.616 1653.28 404.394 Q1650.95 402.172 1650.95 398.214 Q1650.95 393.63 1654.16 390.991 Q1657.4 388.353 1663.08 388.353 Q1665.51 388.353 1668.03 388.792 Q1670.55 389.232 1673.19 390.112 Z\" fill=\"#000000\" fill-rule=\"evenodd\" fill-opacity=\"1\" /><path clip-path=\"url(#clip820)\" d=\"M1704.56 409.51 L1704.56 411.593 L1684.97 411.593 Q1685.25 415.991 1687.61 418.306 Q1690 420.598 1694.23 420.598 Q1696.69 420.598 1698.98 419.996 Q1701.29 419.394 1703.56 418.19 L1703.56 422.218 Q1701.27 423.19 1698.86 423.7 Q1696.45 424.209 1693.98 424.209 Q1687.77 424.209 1684.14 420.598 Q1680.53 416.987 1680.53 410.829 Q1680.53 404.464 1683.95 400.737 Q1687.4 396.987 1693.24 396.987 Q1698.47 396.987 1701.5 400.366 Q1704.56 403.723 1704.56 409.51 M1700.3 408.26 Q1700.25 404.765 1698.33 402.681 Q1696.43 400.598 1693.28 400.598 Q1689.72 400.598 1687.57 402.612 Q1685.44 404.626 1685.11 408.283 L1700.3 408.26 M1696.2 385.621 L1700.81 385.621 L1693.26 394.325 L1689.72 394.325 L1696.2 385.621 Z\" fill=\"#000000\" fill-rule=\"evenodd\" fill-opacity=\"1\" /><path clip-path=\"url(#clip820)\" d=\"M1726.57 401.593 Q1725.85 401.177 1725 400.991 Q1724.16 400.783 1723.14 400.783 Q1719.53 400.783 1717.59 403.144 Q1715.67 405.482 1715.67 409.88 L1715.67 423.538 L1711.39 423.538 L1711.39 397.612 L1715.67 397.612 L1715.67 401.64 Q1717.01 399.278 1719.16 398.144 Q1721.32 396.987 1724.39 396.987 Q1724.83 396.987 1725.37 397.056 Q1725.9 397.103 1726.55 397.218 L1726.57 401.593 Z\" fill=\"#000000\" fill-rule=\"evenodd\" fill-opacity=\"1\" /><path clip-path=\"url(#clip820)\" d=\"M1731.04 397.612 L1735.3 397.612 L1735.3 423.538 L1731.04 423.538 L1731.04 397.612 M1731.04 387.519 L1735.3 387.519 L1735.3 392.913 L1731.04 392.913 L1731.04 387.519 Z\" fill=\"#000000\" fill-rule=\"evenodd\" fill-opacity=\"1\" /><path clip-path=\"url(#clip820)\" d=\"M1766.38 409.51 L1766.38 411.593 L1746.8 411.593 Q1747.08 415.991 1749.44 418.306 Q1751.82 420.598 1756.06 420.598 Q1758.51 420.598 1760.81 419.996 Q1763.12 419.394 1765.39 418.19 L1765.39 422.218 Q1763.1 423.19 1760.69 423.7 Q1758.28 424.209 1755.81 424.209 Q1749.6 424.209 1745.97 420.598 Q1742.36 416.987 1742.36 410.829 Q1742.36 404.464 1745.78 400.737 Q1749.23 396.987 1755.07 396.987 Q1760.3 396.987 1763.33 400.366 Q1766.38 403.723 1766.38 409.51 M1762.13 408.26 Q1762.08 404.765 1760.16 402.681 Q1758.26 400.598 1755.11 400.598 Q1751.55 400.598 1749.39 402.612 Q1747.26 404.626 1746.94 408.283 L1762.13 408.26 Z\" fill=\"#000000\" fill-rule=\"evenodd\" fill-opacity=\"1\" /><path clip-path=\"url(#clip820)\" d=\"M1805.51 401.547 L1805.51 387.519 L1809.76 387.519 L1809.76 423.538 L1805.51 423.538 L1805.51 419.649 Q1804.16 421.963 1802.1 423.098 Q1800.07 424.209 1797.19 424.209 Q1792.5 424.209 1789.53 420.459 Q1786.59 416.709 1786.59 410.598 Q1786.59 404.487 1789.53 400.737 Q1792.5 396.987 1797.19 396.987 Q1800.07 396.987 1802.1 398.121 Q1804.16 399.232 1805.51 401.547 M1790.99 410.598 Q1790.99 415.297 1792.91 417.982 Q1794.86 420.644 1798.24 420.644 Q1801.62 420.644 1803.56 417.982 Q1805.51 415.297 1805.51 410.598 Q1805.51 405.899 1803.56 403.237 Q1801.62 400.552 1798.24 400.552 Q1794.86 400.552 1792.91 403.237 Q1790.99 405.899 1790.99 410.598 Z\" fill=\"#000000\" fill-rule=\"evenodd\" fill-opacity=\"1\" /><path clip-path=\"url(#clip820)\" d=\"M1840.71 409.51 L1840.71 411.593 L1821.13 411.593 Q1821.41 415.991 1823.77 418.306 Q1826.15 420.598 1830.39 420.598 Q1832.84 420.598 1835.13 419.996 Q1837.45 419.394 1839.72 418.19 L1839.72 422.218 Q1837.43 423.19 1835.02 423.7 Q1832.61 424.209 1830.13 424.209 Q1823.93 424.209 1820.3 420.598 Q1816.69 416.987 1816.69 410.829 Q1816.69 404.464 1820.11 400.737 Q1823.56 396.987 1829.39 396.987 Q1834.63 396.987 1837.66 400.366 Q1840.71 403.723 1840.71 409.51 M1836.45 408.26 Q1836.41 404.765 1834.49 402.681 Q1832.59 400.598 1829.44 400.598 Q1825.88 400.598 1823.72 402.612 Q1821.59 404.626 1821.27 408.283 L1836.45 408.26 Z\" fill=\"#000000\" fill-rule=\"evenodd\" fill-opacity=\"1\" /><path clip-path=\"url(#clip820)\" d=\"M1858.17 388.978 L1887.4 388.978 L1887.4 392.913 L1875.13 392.913 L1875.13 423.538 L1870.44 423.538 L1870.44 392.913 L1858.17 392.913 L1858.17 388.978 Z\" fill=\"#000000\" fill-rule=\"evenodd\" fill-opacity=\"1\" /><path clip-path=\"url(#clip820)\" d=\"M1895.67 410.505 Q1890.5 410.505 1888.51 411.686 Q1886.52 412.866 1886.52 415.714 Q1886.52 417.982 1888 419.325 Q1889.51 420.644 1892.08 420.644 Q1895.62 420.644 1897.75 418.144 Q1899.9 415.621 1899.9 411.454 L1899.9 410.505 L1895.67 410.505 M1904.16 408.746 L1904.16 423.538 L1899.9 423.538 L1899.9 419.602 Q1898.44 421.963 1896.27 423.098 Q1894.09 424.209 1890.94 424.209 Q1886.96 424.209 1884.6 421.987 Q1882.26 419.741 1882.26 415.991 Q1882.26 411.616 1885.18 409.394 Q1888.12 407.172 1893.93 407.172 L1899.9 407.172 L1899.9 406.755 Q1899.9 403.815 1897.96 402.218 Q1896.04 400.598 1892.54 400.598 Q1890.32 400.598 1888.21 401.13 Q1886.11 401.663 1884.16 402.727 L1884.16 398.792 Q1886.5 397.89 1888.7 397.45 Q1890.9 396.987 1892.98 396.987 Q1898.61 396.987 1901.38 399.903 Q1904.16 402.82 1904.16 408.746 Z\" fill=\"#000000\" fill-rule=\"evenodd\" fill-opacity=\"1\" /><path clip-path=\"url(#clip820)\" d=\"M1923.72 425.945 Q1921.92 430.575 1920.2 431.987 Q1918.49 433.399 1915.62 433.399 L1912.22 433.399 L1912.22 429.834 L1914.72 429.834 Q1916.48 429.834 1917.45 429 Q1918.42 428.167 1919.6 425.065 L1920.37 423.121 L1909.88 397.612 L1914.39 397.612 L1922.5 417.889 L1930.6 397.612 L1935.11 397.612 L1923.72 425.945 Z\" fill=\"#000000\" fill-rule=\"evenodd\" fill-opacity=\"1\" /><path clip-path=\"url(#clip820)\" d=\"M1940.99 387.519 L1945.25 387.519 L1945.25 423.538 L1940.99 423.538 L1940.99 387.519 Z\" fill=\"#000000\" fill-rule=\"evenodd\" fill-opacity=\"1\" /><path clip-path=\"url(#clip820)\" d=\"M1964.21 400.598 Q1960.78 400.598 1958.79 403.283 Q1956.8 405.945 1956.8 410.598 Q1956.8 415.251 1958.77 417.936 Q1960.76 420.598 1964.21 420.598 Q1967.61 420.598 1969.6 417.913 Q1971.59 415.227 1971.59 410.598 Q1971.59 405.991 1969.6 403.306 Q1967.61 400.598 1964.21 400.598 M1964.21 396.987 Q1969.76 396.987 1972.93 400.598 Q1976.11 404.209 1976.11 410.598 Q1976.11 416.964 1972.93 420.598 Q1969.76 424.209 1964.21 424.209 Q1958.63 424.209 1955.46 420.598 Q1952.31 416.964 1952.31 410.598 Q1952.31 404.209 1955.46 400.598 Q1958.63 396.987 1964.21 396.987 Z\" fill=\"#000000\" fill-rule=\"evenodd\" fill-opacity=\"1\" /><path clip-path=\"url(#clip820)\" d=\"M1998.19 401.593 Q1997.47 401.177 1996.62 400.991 Q1995.78 400.783 1994.76 400.783 Q1991.15 400.783 1989.21 403.144 Q1987.29 405.482 1987.29 409.88 L1987.29 423.538 L1983 423.538 L1983 397.612 L1987.29 397.612 L1987.29 401.64 Q1988.63 399.278 1990.78 398.144 Q1992.93 396.987 1996.01 396.987 Q1996.45 396.987 1996.99 397.056 Q1997.52 397.103 1998.17 397.218 L1998.19 401.593 Z\" fill=\"#000000\" fill-rule=\"evenodd\" fill-opacity=\"1\" /><path clip-path=\"url(#clip820)\" d=\"M2015.57 408.653 L2028.05 408.653 L2028.05 412.45 L2015.57 412.45 L2015.57 408.653 Z\" fill=\"#000000\" fill-rule=\"evenodd\" fill-opacity=\"1\" /><path clip-path=\"url(#clip820)\" d=\"M2050.55 388.978 L2068.91 388.978 L2068.91 392.913 L2054.83 392.913 L2054.83 401.385 Q2055.85 401.038 2056.87 400.876 Q2057.89 400.69 2058.91 400.69 Q2064.69 400.69 2068.07 403.862 Q2071.45 407.033 2071.45 412.45 Q2071.45 418.028 2067.98 421.13 Q2064.51 424.209 2058.19 424.209 Q2056.01 424.209 2053.74 423.838 Q2051.5 423.468 2049.09 422.727 L2049.09 418.028 Q2051.18 419.163 2053.4 419.718 Q2055.62 420.274 2058.1 420.274 Q2062.1 420.274 2064.44 418.167 Q2066.78 416.061 2066.78 412.45 Q2066.78 408.839 2064.44 406.732 Q2062.1 404.626 2058.1 404.626 Q2056.22 404.626 2054.35 405.042 Q2052.49 405.459 2050.55 406.339 L2050.55 388.978 Z\" fill=\"#000000\" fill-rule=\"evenodd\" fill-opacity=\"1\" /><path clip-path=\"url(#clip820)\" d=\"M2090.53 388.978 L2119.76 388.978 L2119.76 392.913 L2107.49 392.913 L2107.49 423.538 L2102.8 423.538 L2102.8 392.913 L2090.53 392.913 L2090.53 388.978 Z\" fill=\"#000000\" fill-rule=\"evenodd\" fill-opacity=\"1\" /><path clip-path=\"url(#clip820)\" d=\"M2138.21 409.51 L2138.21 411.593 L2118.63 411.593 Q2118.91 415.991 2121.27 418.306 Q2123.65 420.598 2127.89 420.598 Q2130.34 420.598 2132.63 419.996 Q2134.95 419.394 2137.22 418.19 L2137.22 422.218 Q2134.92 423.19 2132.52 423.7 Q2130.11 424.209 2127.63 424.209 Q2121.43 424.209 2117.8 420.598 Q2114.18 416.987 2114.18 410.829 Q2114.18 404.464 2117.61 400.737 Q2121.06 396.987 2126.89 396.987 Q2132.12 396.987 2135.16 400.366 Q2138.21 403.723 2138.21 409.51 M2133.95 408.26 Q2133.91 404.765 2131.98 402.681 Q2130.09 400.598 2126.94 400.598 Q2123.37 400.598 2121.22 402.612 Q2119.09 404.626 2118.77 408.283 L2133.95 408.26 Z\" fill=\"#000000\" fill-rule=\"evenodd\" fill-opacity=\"1\" /><path clip-path=\"url(#clip820)\" d=\"M2160.23 401.593 Q2159.51 401.177 2158.65 400.991 Q2157.82 400.783 2156.8 400.783 Q2153.19 400.783 2151.24 403.144 Q2149.32 405.482 2149.32 409.88 L2149.32 423.538 L2145.04 423.538 L2145.04 397.612 L2149.32 397.612 L2149.32 401.64 Q2150.67 399.278 2152.82 398.144 Q2154.97 396.987 2158.05 396.987 Q2158.49 396.987 2159.02 397.056 Q2159.55 397.103 2160.2 397.218 L2160.23 401.593 Z\" fill=\"#000000\" fill-rule=\"evenodd\" fill-opacity=\"1\" /><path clip-path=\"url(#clip820)\" d=\"M2184.04 402.589 Q2185.64 399.718 2187.86 398.353 Q2190.09 396.987 2193.1 396.987 Q2197.15 396.987 2199.35 399.834 Q2201.54 402.658 2201.54 407.889 L2201.54 423.538 L2197.26 423.538 L2197.26 408.028 Q2197.26 404.302 2195.94 402.496 Q2194.62 400.69 2191.92 400.69 Q2188.6 400.69 2186.68 402.89 Q2184.76 405.089 2184.76 408.885 L2184.76 423.538 L2180.48 423.538 L2180.48 408.028 Q2180.48 404.278 2179.16 402.496 Q2177.84 400.69 2175.09 400.69 Q2171.82 400.69 2169.9 402.913 Q2167.98 405.112 2167.98 408.885 L2167.98 423.538 L2163.7 423.538 L2163.7 397.612 L2167.98 397.612 L2167.98 401.64 Q2169.44 399.255 2171.48 398.121 Q2173.51 396.987 2176.31 396.987 Q2179.14 396.987 2181.1 398.422 Q2183.1 399.857 2184.04 402.589 Z\" fill=\"#000000\" fill-rule=\"evenodd\" fill-opacity=\"1\" /><path clip-path=\"url(#clip820)\" d=\"M2220.09 400.598 Q2216.66 400.598 2214.67 403.283 Q2212.68 405.945 2212.68 410.598 Q2212.68 415.251 2214.65 417.936 Q2216.64 420.598 2220.09 420.598 Q2223.49 420.598 2225.48 417.913 Q2227.47 415.227 2227.47 410.598 Q2227.47 405.991 2225.48 403.306 Q2223.49 400.598 2220.09 400.598 M2220.09 396.987 Q2225.64 396.987 2228.81 400.598 Q2231.98 404.209 2231.98 410.598 Q2231.98 416.964 2228.81 420.598 Q2225.64 424.209 2220.09 424.209 Q2214.51 424.209 2211.34 420.598 Q2208.19 416.964 2208.19 410.598 Q2208.19 404.209 2211.34 400.598 Q2214.51 396.987 2220.09 396.987 Z\" fill=\"#000000\" fill-rule=\"evenodd\" fill-opacity=\"1\" /></svg>\n"
     },
     "execution_count": 3,
     "metadata": {},
     "output_type": "execute_result"
    }
   ],
   "source": [
    "f1(x) = cos(x)\n",
    "f2(x) = cos(0) -sin(0)*(x-0)\n",
    "f3(x) = cos(0) -sin(0)*(x-0) - ((cos(0)*(x-0)^2)/2)\n",
    "f4(x) = cos(0) -sin(0)*(x-0) - ((cos(0)*(x-0)^2)/2) + ((sin(0)*(x-0)^3)/6)\n",
    "f5(x) = cos(0) -sin(0)*(x-0) - ((cos(0)*(x-0)^2)/2) + ((sin(0)*(x-0)^3)/6) + ((cos(0)*(x-0)^4)/24)\n",
    "f6(x) = cos(0) -sin(0)*(x-0) - ((cos(0)*(x-0)^2)/2) + ((sin(0)*(x-0)^3)/6) + ((cos(0)*(x-0)^4)/24) - ((sin(0)*(x-0)^5)/120)\n",
    "\n",
    "plot(f1, xlim=(-25,25), ylim=(-25,25), label = \"cos() function\")\n",
    "plot!(f2, label = \"Série de Taylor - 1 Termo\")\n",
    "plot!(f3, label = \"Série de Taylor - 2 Termo\")\n",
    "plot!(f4, label = \"Série de Taylor - 3 Termo\")\n",
    "plot!(f5, label = \"Série de Taylor - 4 Termo\")\n",
    "plot!(f6, label = \"Série de Taylor - 5 Termo\")"
   ]
  }
 ],
 "metadata": {
  "kernelspec": {
   "display_name": "Julia 1.6.4",
   "language": "julia",
   "name": "julia-1.6"
  },
  "language_info": {
   "file_extension": ".jl",
   "mimetype": "application/julia",
   "name": "julia",
   "version": "1.6.4"
  }
 },
 "nbformat": 4,
 "nbformat_minor": 4
}
