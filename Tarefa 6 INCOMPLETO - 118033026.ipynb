{
 "cells": [
  {
   "cell_type": "markdown",
   "metadata": {},
   "source": [
    "### Integrantes das questões em grupo $(1$ & $3)$:\n",
    "\n",
    "###### Filipe Pierri de Mendonça Nobre - $118033026$\n",
    "\n",
    "###### Thales Monteiro Pierini Macena - $116194266$\n",
    "\n",
    "###### Daniel Pinheiro Rodrigues - $118019420$"
   ]
  },
  {
   "cell_type": "markdown",
   "metadata": {},
   "source": [
    "1-"
   ]
  },
  {
   "cell_type": "code",
   "execution_count": 2,
   "metadata": {},
   "outputs": [
    {
     "data": {
      "text/plain": [
       "RESOLVE_DIAGONAL (generic function with 1 method)"
      ]
     },
     "execution_count": 2,
     "metadata": {},
     "output_type": "execute_result"
    }
   ],
   "source": [
    "function RESOLVE_DIAGONAL(matriz, vetor) #passa matriz nxn e vetor\n",
    "  lin, col = size(matriz) #queremos só o num de linhas, o num de colunas não vai ser usado\n",
    "\n",
    "  resultado = zeros(lin) #preenchemos um vetor com tamanho igual ao número de linhas preenchido por zeros\n",
    "\n",
    "  for i=1:lin\n",
    "    resultado[i] = vetor[i] / matriz[i, i] #dividindo v[i] por m[i][i] (o valor na diagonal correspondente a posição i) e armazenando no vetor resultado em [1]\n",
    "  end\n",
    "\n",
    "  return resultado\n",
    "end"
   ]
  },
  {
   "cell_type": "code",
   "execution_count": 3,
   "metadata": {},
   "outputs": [
    {
     "name": "stdout",
     "output_type": "stream",
     "text": [
      "Diagonal 1: [1.0, 0.2, 0.1111111111111111]\n",
      "\n",
      "Diagonal 2: [1.0, 2.0, 3.0]\n",
      "\n",
      "Diagonal 3: [1.0, 1.0, 1.0]"
     ]
    }
   ],
   "source": [
    "matriz1 = [1 2 3; 4 5 6; 7 8 9]\n",
    "vetor1 = [1; 1; 1]\n",
    "\n",
    "matriz2 = [1 1 1; 1 1 1; 1 1 1]\n",
    "vetor2 = [1; 2; 3]\n",
    "\n",
    "matriz3 = [1 2 3; 4 5 6; 7 8 9]\n",
    "vetor3 = [1; 5; 9]\n",
    "\n",
    "print(\"Diagonal 1: \")\n",
    "print(RESOLVE_DIAGONAL(matriz1, vetor1))\n",
    "print(\"\\n\\n\")\n",
    "print(\"Diagonal 2: \")\n",
    "print(RESOLVE_DIAGONAL(matriz2, vetor2))\n",
    "print(\"\\n\\n\")\n",
    "print(\"Diagonal 3: \")\n",
    "print(RESOLVE_DIAGONAL(matriz3, vetor3))"
   ]
  },
  {
   "cell_type": "code",
   "execution_count": 4,
   "metadata": {},
   "outputs": [
    {
     "data": {
      "text/plain": [
       "RESOLVE_TRIANNGULAR_SUPERIOR (generic function with 1 method)"
      ]
     },
     "execution_count": 4,
     "metadata": {},
     "output_type": "execute_result"
    }
   ],
   "source": [
    "function RESOLVE_TRIANNGULAR_SUPERIOR(matriz, vetor) #passa matriz nxn e vetor\n",
    "  lin, col = size(matriz) #queremos só o num de linhas, o num de colunas não vai ser usado\n",
    "  resultado = zeros(lin) #preenchemos um vetor com tamanho igual ao número de linhas preenchido por zeros\n",
    "\n",
    "  for i=lin:-1:1  #for decrescente, para começar pelo x[n][n]\n",
    "    if i==lin\n",
    "      resultado[i] = vetor[i] / matriz[i,i]  #dividindo v[i] por m[i][i] (o valor na diagonal correspondente a posição i) e armazenando no vetor resultado em [i]\n",
    "    else #para os que não são x[n][n]\n",
    "      aux = vetor[i] #recebe valor de v[i]\n",
    "      for j=lin:-1:i+1 #for decrescente para podermos calcular o R(n)\n",
    "        aux -= matriz[i,j] * resultado[j]\n",
    "      end\n",
    "      aux = aux / matriz[i,i]\n",
    "      resultado[i] = aux\n",
    "    end\n",
    "  end\n",
    "\n",
    "  return resultado\n",
    "end"
   ]
  },
  {
   "cell_type": "code",
   "execution_count": 5,
   "metadata": {},
   "outputs": [
    {
     "name": "stdout",
     "output_type": "stream",
     "text": [
      "Resultado 1: [4.0, 2.0, 3.0]\n",
      "\n",
      "Resultado 2: [4.0, 2.0, 3.0]\n",
      "\n",
      "Resultado 3: [4.0, 2.0, 3.0]"
     ]
    }
   ],
   "source": [
    "matriz1 = [1 1 1; 0 1 1; 0 0 1]\n",
    "vetor1 = [9; 5; 3]\n",
    "\n",
    "matriz2 = [2 2 2; 0 2 2; 0 0 2]\n",
    "vetor2 = [18; 10; 6]\n",
    "\n",
    "matriz3 = [3 3 3; 0 3 3; 0 0 3]\n",
    "vetor3 = [27; 15; 9]\n",
    "\n",
    "print(\"Resultado 1: \")\n",
    "print(RESOLVE_TRIANNGULAR_SUPERIOR(matriz1, vetor1))\n",
    "print(\"\\n\\n\")\n",
    "print(\"Resultado 2: \")\n",
    "print(RESOLVE_TRIANNGULAR_SUPERIOR(matriz2, vetor2))\n",
    "print(\"\\n\\n\")\n",
    "print(\"Resultado 3: \")\n",
    "print(RESOLVE_TRIANNGULAR_SUPERIOR(matriz3, vetor3))"
   ]
  },
  {
   "cell_type": "code",
   "execution_count": 6,
   "metadata": {},
   "outputs": [
    {
     "data": {
      "text/plain": [
       "RESOLVE_TRIANNGULAR_INFERIOR (generic function with 1 method)"
      ]
     },
     "execution_count": 6,
     "metadata": {},
     "output_type": "execute_result"
    }
   ],
   "source": [
    "function RESOLVE_TRIANNGULAR_INFERIOR(matriz, vetor) #passa matriz nxn e vetor\n",
    "  lin, col = size(matriz)  #queremos só o num de linhas, o num de colunas não vai ser usado\n",
    "  resultado = zeros(lin) #preenchemos um vetor com tamanho igual ao número de linhas preenchido por zeros\n",
    "\n",
    "  for i=1:lin #for crescente, para começar pelo x[1][1]\n",
    "    if i==1\n",
    "      resultado[i] = vetor[i] / matriz[i,i] #dividindo v[i] por m[i][i] (o valor na diagonal correspondente a posição i) e armazenando no vetor resultado em [i]\n",
    "    else #para os que não são x[1][1]\n",
    "      aux = vetor[i] #recebe valor de v[i]\n",
    "      for j=1:i-1 #for crescente para podermos calcular o R(n)\n",
    "        aux -= matriz[i,j] * resultado[j]\n",
    "      end\n",
    "      aux = aux / matriz[i,i]\n",
    "      resultado[i] = aux\n",
    "    end\n",
    "  end\n",
    "\n",
    "  return resultado\n",
    "end"
   ]
  },
  {
   "cell_type": "code",
   "execution_count": 7,
   "metadata": {},
   "outputs": [
    {
     "name": "stdout",
     "output_type": "stream",
     "text": [
      "Resultado 1: [9.0, -4.0, -2.0]\n",
      "\n",
      "Resultado 2: [9.0, -4.0, -2.0]\n",
      "\n",
      "Resultado 3: [9.0, -4.0, -2.0]"
     ]
    }
   ],
   "source": [
    "matriz1 = [1 0 0; 1 1 0; 1 1 1]\n",
    "vetor1 = [9; 5; 3]\n",
    "\n",
    "matriz2 = [2 0 0; 2 2 0; 2 2 2]\n",
    "vetor2 = [18; 10; 6]\n",
    "\n",
    "matriz3 = [3 0 0; 3 3 0; 3 3 3]\n",
    "vetor3 = [27; 15; 9]\n",
    "\n",
    "print(\"Resultado 1: \")\n",
    "print(RESOLVE_TRIANNGULAR_INFERIOR(matriz1, vetor1))\n",
    "print(\"\\n\\n\")\n",
    "print(\"Resultado 2: \")\n",
    "print(RESOLVE_TRIANNGULAR_INFERIOR(matriz2, vetor2))\n",
    "print(\"\\n\\n\")\n",
    "print(\"Resultado 3: \")\n",
    "print(RESOLVE_TRIANNGULAR_INFERIOR(matriz3, vetor3))"
   ]
  },
  {
   "cell_type": "code",
   "execution_count": 8,
   "metadata": {},
   "outputs": [
    {
     "data": {
      "text/plain": [
       "DECOMPOSICAO_LU (generic function with 1 method)"
      ]
     },
     "execution_count": 8,
     "metadata": {},
     "output_type": "execute_result"
    }
   ],
   "source": [
    "function DECOMPOSICAO_LU(matrix) #passa matriz nxn (por favor, use floats)\n",
    "    n = size(matrix, 1)      # tamanho da matriz nXn\n",
    "    auxMatrix = copy(matrix) # matriz que será subtraída a cada loop até ser uma matriz de zeros\n",
    "    L = zeros(n, n)          # L como matriz zerada\n",
    "    U = zeros(n, n)          # U como matriz zerada\n",
    "    \n",
    "    # Iterando pela diagonal\n",
    "    for d = 1:n\n",
    "        # Pega o número da diagonal para dividirmos a coluna escolhida\n",
    "        pivot = auxMatrix[d, d]\n",
    "        \n",
    "        # Coloca diretamente em L e U o produto externo\n",
    "        # ou seja, colocará o vetor coluna em L e o vetor linha em U\n",
    "        # porque o produto de uma matriz é equivalente a soma dos produtos externos dos vetores de linha e coluna\n",
    "        for i = d:n\n",
    "            L[i, d] = auxMatrix[i, d]/pivot # vetor de coluna\n",
    "            U[d, i] = auxMatrix[d, i]       # multiplos do vetor de coluna\n",
    "        end\n",
    "        \n",
    "        # Realiza a subtração\n",
    "        for col = d:n\n",
    "            for row = d:n\n",
    "                auxMatrix[row, col] -= L[row, d]*U[d, col]\n",
    "            end\n",
    "        end\n",
    "    end\n",
    "    \n",
    "    return (L, U)\n",
    "end"
   ]
  },
  {
   "cell_type": "code",
   "execution_count": 9,
   "metadata": {},
   "outputs": [
    {
     "name": "stdout",
     "output_type": "stream",
     "text": [
      "LU 1: ([1.0 0.0 0.0; 0.0 1.0 0.0; 1.0 -0.5 1.0], [1.0 2.0 3.0; 0.0 4.0 5.0; 0.0 0.0 5.5])\n",
      "\n",
      "LU 2: ([1.0 0.0 0.0; 0.0 1.0 0.0; 0.5 1.5 1.0], [2.0 1.0 0.0; 0.0 1.0 0.0; 0.0 0.0 1.0])\n",
      "\n",
      "LU 3: ([1.0 0.0 0.0; 0.0 1.0 0.0; 0.0 0.0 1.0], [1.0 -2.0 5.0; 0.0 1.0 -4.0; 0.0 0.0 1.0])"
     ]
    }
   ],
   "source": [
    "# Matriz de floats, para não dar erro de divisão por fração\n",
    "matriz1 = [1.0 2.0 3.0; 0.0 4.0 5.0; 1.0 0.0 6.0]\n",
    "matriz2 = [2.0 1.0 0.0; 0.0 1.0 0.0; 1.0 2.0 1.0]\n",
    "matriz3 = [1.0 -2.0 5.0; 0.0 1.0 -4.0; 0.0 0.0 1.0]\n",
    "\n",
    "print(\"LU 1: \")\n",
    "print(DECOMPOSICAO_LU(matriz1))\n",
    "print(\"\\n\\n\")\n",
    "print(\"LU 2: \")\n",
    "print(DECOMPOSICAO_LU(matriz2))\n",
    "print(\"\\n\\n\")\n",
    "print(\"LU 3: \")\n",
    "print(DECOMPOSICAO_LU(matriz3))"
   ]
  },
  {
   "cell_type": "markdown",
   "metadata": {},
   "source": [
    "O algoritmo de calcular a inversa é O(n^3). Para resolver matriz triangular é O(n^2) e para resolver pra cada coluna da matriz é O(n). Logo é O(n^3)"
   ]
  },
  {
   "cell_type": "code",
   "execution_count": 10,
   "metadata": {},
   "outputs": [
    {
     "data": {
      "text/plain": [
       "INVERSA (generic function with 1 method)"
      ]
     },
     "execution_count": 10,
     "metadata": {},
     "output_type": "execute_result"
    }
   ],
   "source": [
    "function INVERSA(matriz) # Função recebe como entrada uma matriz e retorna sua inversa\n",
    "  lin, col = size(matriz) # Pega os valores da matriz\n",
    "\n",
    "  L, U = DECOMPOSICAO_LU(matriz) # Chama a função DECOMPOSICAO_LU para obter L e U\n",
    "\n",
    "  IA = zeros(lin, col) # Define a inversa da matriz de entrada como uma matriz de zeros\n",
    "\n",
    "  for i = 1:col # Para uma matriz identidade de tamanho nxn\n",
    "    # Defino a coluna i da matriz identidade\n",
    "    ei = zeros(col)\n",
    "    ei[i] = 1\n",
    "\n",
    "    # z = (Ua)\n",
    "    # Resolvo o sistema Lz = ei\n",
    "    z = RESOLVE_TRIANNGULAR_INFERIOR(L, ei)\n",
    "\n",
    "    # Resolvo o sistema Ua = z\n",
    "    ai = RESOLVE_TRIANNGULAR_SUPERIOR(U, z)\n",
    "\n",
    "    # Coloca as colunas da matriz Inversa de A  \n",
    "    for x = 1:length(ai)\n",
    "      IA[x, i] = ai[x]\n",
    "    end\n",
    "  end\n",
    "\n",
    "  # Retorna a matriz inversa\n",
    "  return IA\n",
    "end"
   ]
  },
  {
   "cell_type": "code",
   "execution_count": 11,
   "metadata": {},
   "outputs": [
    {
     "name": "stdout",
     "output_type": "stream",
     "text": [
      "Inversa 1: [1.0909090909090908 -0.5454545454545454 -0.09090909090909083; 0.2272727272727273 0.13636363636363635 -0.2272727272727273; -0.18181818181818182 0.09090909090909091 0.18181818181818182]\n",
      "\n",
      "Inversa 2: [0.5 -0.5 0.0; 0.0 1.0 0.0; -0.5 -1.5 1.0]\n",
      "\n",
      "Inversa 3: [1.0 2.0 3.0; 0.0 1.0 4.0; 0.0 0.0 1.0]"
     ]
    }
   ],
   "source": [
    "matriz1 = [1.0 2.0 3.0; 0.0 4.0 5.0; 1.0 0.0 6.0]\n",
    "matriz2 = [2.0 1.0 0.0; 0.0 1.0 0.0; 1.0 2.0 1.0]\n",
    "matriz3 = [1.0 -2.0 5.0; 0.0 1.0 -4.0; 0.0 0.0 1.0]\n",
    "\n",
    "print(\"Inversa 1: \")\n",
    "print(INVERSA(matriz1))\n",
    "print(\"\\n\\n\")\n",
    "print(\"Inversa 2: \")\n",
    "print(INVERSA(matriz2))\n",
    "print(\"\\n\\n\")\n",
    "print(\"Inversa 3: \")\n",
    "print(INVERSA(matriz3))"
   ]
  },
  {
   "cell_type": "markdown",
   "metadata": {},
   "source": [
    "##### 2)"
   ]
  },
  {
   "cell_type": "markdown",
   "metadata": {},
   "source": [
    "##### 3)"
   ]
  },
  {
   "cell_type": "markdown",
   "metadata": {},
   "source": [
    "a)\n",
    "\n",
    "Para resolver o sistema, é preciso monta-lo da forma que cada variavel x1 x2 x3 x4 seja uma incognita do sistema linear. Partindo do ponto que o valor de uma variavel é a media dos vertices a sua volta. Podemos montar o sistema e com um pouco de algebra obtemos a seguinte matriz:\n",
    "\n",
    "$$ \\begin{bmatrix}\n",
    "4 & -1 & -1 & 0 \\\\\n",
    "-1 & 4 & 0 & -1 \\\\\n",
    "-1 & 0 & 4 & -1 \\\\\n",
    "0 & -1 & -1 & 4 \\\\\n",
    "\\end{bmatrix} $$\n",
    "\n",
    "Com o seguinte vetor de resultado\n",
    "$$ \\begin{bmatrix}\n",
    "20  \\\\\n",
    "50 \\\\\n",
    "-15  \\\\\n",
    "45 \\\\\n",
    "\\end{bmatrix} $$\n",
    "\n"
   ]
  },
  {
   "cell_type": "markdown",
   "metadata": {},
   "source": [
    "b)\n",
    "\n",
    "Utilizarei a função de decomposição LU e parte do raciocinio para obter o resultado da função. Temos que y = Ux e que Ly = vetor"
   ]
  },
  {
   "cell_type": "code",
   "execution_count": 12,
   "metadata": {},
   "outputs": [
    {
     "data": {
      "text/plain": [
       "4-element Vector{Float64}:\n",
       " 10.625\n",
       " 19.375\n",
       "  3.1249999999999987\n",
       " 16.874999999999996"
      ]
     },
     "execution_count": 12,
     "metadata": {},
     "output_type": "execute_result"
    }
   ],
   "source": [
    "matriz = [\n",
    "  4.0 -1.0 -1.0 0.0;\n",
    "  -1.0 4.0 0.0 -1.0 ;\n",
    "  -1.0 0.0 4.0 -1.0 ;\n",
    "  0.0 -1.0 -1.0 4.0\n",
    "]\n",
    "\n",
    "vetor = [\n",
    "  20.0\n",
    "  50.0\n",
    "  -15.0\n",
    "  45.0\n",
    "]\n",
    "\n",
    "L, U = DECOMPOSICAO_LU(matriz)\n",
    "\n",
    "y = RESOLVE_TRIANNGULAR_INFERIOR(L, vetor)\n",
    "\n",
    "resultado = RESOLVE_TRIANNGULAR_SUPERIOR(U, y)\n",
    "\n",
    "# output =\n",
    "# x1\n",
    "# x2\n",
    "# x3\n",
    "# x4"
   ]
  },
  {
   "cell_type": "markdown",
   "metadata": {},
   "source": [
    "c) "
   ]
  },
  {
   "cell_type": "code",
   "execution_count": 13,
   "metadata": {},
   "outputs": [
    {
     "data": {
      "text/plain": [
       "lake (generic function with 1 method)"
      ]
     },
     "execution_count": 13,
     "metadata": {},
     "output_type": "execute_result"
    }
   ],
   "source": [
    "function lake(n, up, down, left, right)\n",
    "  A = zeros(n^2, n^2)\n",
    "  b = zeros(n^2)\n",
    "  \n",
    "  for i = 1:(n^2)\n",
    "    row = ((i - 1) ÷ n) + 1\n",
    "    column = ((i - 1) % n) + 1\n",
    "\n",
    "    A[i,i] = 4.0\n",
    "\n",
    "    if row == 1\n",
    "      b[i] += up\n",
    "    else\n",
    "      A[i, i - n] = -1.0\n",
    "    end\n",
    "\n",
    "    if row == n\n",
    "      b[i] += down\n",
    "    else\n",
    "      A[i, i + n] = -1.0\n",
    "    end\n",
    "\n",
    "    if column == 1\n",
    "      b[i] += left\n",
    "    else\n",
    "      A[i, i - 1] = -1.0\n",
    "    end\n",
    "\n",
    "    if column == n\n",
    "      b[i] += right\n",
    "    else\n",
    "      A[i, i + 1] = -1.0\n",
    "    end\n",
    "  end\n",
    "\n",
    "  return A, b\n",
    "end"
   ]
  },
  {
   "cell_type": "code",
   "execution_count": 14,
   "metadata": {},
   "outputs": [
    {
     "data": {
      "text/plain": [
       "25-element Vector{Float64}:\n",
       " 22.656565656565654\n",
       " 21.762286324786324\n",
       " 21.28651903651904\n",
       " 20.89359945609946\n",
       " 20.46969696969697\n",
       " 23.863976301476303\n",
       " 23.106060606060602\n",
       " 22.49019036519036\n",
       " 21.818181818181817\n",
       " 20.98518842268842\n",
       " 24.69327894327894\n",
       " 24.30778943278943\n",
       " 23.75\n",
       " 22.903749028749036\n",
       " 21.65287490287491\n",
       " 25.601350038850036\n",
       " 25.68181818181818\n",
       " 25.29827117327117\n",
       " 24.393939393939394\n",
       " 22.722562160062164\n",
       " 27.030303030303024\n",
       " 27.519862082362078\n",
       " 27.367327117327115\n",
       " 26.65117521367521\n",
       " 24.84343434343434"
      ]
     },
     "execution_count": 14,
     "metadata": {},
     "output_type": "execute_result"
    }
   ],
   "source": [
    "A, b = lake(5, 20.0, 30.0, 25.0, 20.0)\n",
    "\n",
    "L, U = DECOMPOSICAO_LU(A)\n",
    "\n",
    "y = RESOLVE_TRIANNGULAR_INFERIOR(L, b)\n",
    "\n",
    "resultado = RESOLVE_TRIANNGULAR_SUPERIOR(U, y)"
   ]
  },
  {
   "cell_type": "markdown",
   "metadata": {},
   "source": [
    "d)\n",
    "Sempre é possivel discretizar com mais nós porque o determinante é diferente de 0. Com 100 passa de 2 min.\n",
    "\n",
    "Benchmark: \n",
    "\n",
    "60 = 40s\n",
    "\n",
    "70 = 1m37s\n"
   ]
  },
  {
   "cell_type": "code",
   "execution_count": 22,
   "metadata": {},
   "outputs": [
    {
     "data": {
      "text/plain": [
       "4900-element Vector{Float64}:\n",
       " 22.50108558998749\n",
       " 21.513904439159596\n",
       " 21.050189812773926\n",
       " 20.796787746162533\n",
       " 20.64099532459102\n",
       " 20.536553881170132\n",
       " 20.461993092073193\n",
       " 20.40623259644159\n",
       " 20.363034297521292\n",
       " 20.328632293894486\n",
       " 20.30062227421697\n",
       " 20.277398042777357\n",
       " 20.257845850530398\n",
       "  ⋮\n",
       " 29.45633632835899\n",
       " 29.409238166074058\n",
       " 29.35249628969431\n",
       " 29.28290470185692\n",
       " 29.195661213527046\n",
       " 29.08324049474785\n",
       " 28.93317286263133\n",
       " 28.723304141337515\n",
       " 28.410700260980292\n",
       " 27.90285049330702\n",
       " 26.97435563736066\n",
       " 24.99891441001252"
      ]
     },
     "execution_count": 22,
     "metadata": {},
     "output_type": "execute_result"
    }
   ],
   "source": [
    "A, b = lake(70, 20.0, 30.0, 25.0, 20.0)\n",
    "\n",
    "L, U = DECOMPOSICAO_LU(A)\n",
    "\n",
    "y = RESOLVE_TRIANNGULAR_INFERIOR(L, b)\n",
    "\n",
    "resultado = RESOLVE_TRIANNGULAR_SUPERIOR(U, y)"
   ]
  },
  {
   "cell_type": "markdown",
   "metadata": {},
   "source": [
    "##### 4)"
   ]
  },
  {
   "cell_type": "markdown",
   "metadata": {},
   "source": []
  }
 ],
 "metadata": {
  "kernelspec": {
   "display_name": "Julia 1.6.4",
   "language": "julia",
   "name": "julia-1.6"
  },
  "language_info": {
   "file_extension": ".jl",
   "mimetype": "application/julia",
   "name": "julia",
   "version": "1.6.4"
  },
  "orig_nbformat": 4
 },
 "nbformat": 4,
 "nbformat_minor": 2
}
