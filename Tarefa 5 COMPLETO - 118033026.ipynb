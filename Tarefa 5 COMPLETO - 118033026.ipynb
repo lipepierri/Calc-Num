{
 "cells": [
  {
   "cell_type": "code",
   "execution_count": 67,
   "metadata": {},
   "outputs": [],
   "source": [
    "using LinearAlgebra"
   ]
  },
  {
   "cell_type": "markdown",
   "metadata": {},
   "source": [
    "Hoje não preciso plotar nenhuma questão, olha que felicidade!"
   ]
  },
  {
   "cell_type": "markdown",
   "metadata": {},
   "source": [
    "# 1"
   ]
  },
  {
   "cell_type": "markdown",
   "metadata": {},
   "source": [
    "![grafo](https://i.imgur.com/nMZ4Zez.png)"
   ]
  },
  {
   "cell_type": "markdown",
   "metadata": {},
   "source": [
    "A primeira coisa que fiz foi passar esses dados da questão para uma matriz. Para encontrar a curva $T(x)= co * x^c1$, me utilizei de uma implementação da matriz de vandermonde onde aplico os valores de x e y pelo inverso da exponencial. Essa questão eu tirei dúvidas com o Thales Macena, para saber como prosseguir, mas busquei realizar minha própria implementação."
   ]
  },
  {
   "cell_type": "code",
   "execution_count": 68,
   "metadata": {},
   "outputs": [
    {
     "data": {
      "text/plain": [
       "72.061"
      ]
     },
     "metadata": {},
     "output_type": "display_data"
    }
   ],
   "source": [
    "xt = [ 0.1 0.2 0.4 0.8 0.9; \n",
    "      22 43 84 210 320 ]\n",
    "auxX = reshape(xt[1,:], 1, length(xt[1,:]))\n",
    "auxY = reshape(xt[2,:], 1, length(xt[2,:]))\n",
    "tempLog = zeros(length(auxY),1)\n",
    "V = zeros(length(auxY),2)\n",
    "\n",
    "for i=1:length(auxY) #linhas\n",
    "  tempLog[i,1] = log(auxY[i])\n",
    "  for j=1:2\n",
    "    if j==1\n",
    "      V[i,j]=log(auxX[i])\n",
    "    else\n",
    "      V[i,j]=1\n",
    "    end\n",
    "  end\n",
    "end\n",
    "\n",
    "tempFinal = V\\tempLog\n",
    "tempFinal[2] = ℯ^tempFinal[2]\n",
    "T(x) = (x^(tempFinal[1]))*tempFinal[2]\n",
    "t_03 = round(T(0.3), digits=3)"
   ]
  },
  {
   "cell_type": "markdown",
   "metadata": {},
   "source": [
    "Assim, obtivemos que $T(0.3) = 72.061$. Ou seja, em 0.3cm de distância, o valor da temperatura  foi de $72.061°C$."
   ]
  },
  {
   "cell_type": "markdown",
   "metadata": {},
   "source": [
    "# 2\n"
   ]
  },
  {
   "cell_type": "markdown",
   "metadata": {},
   "source": [
    "##### a)"
   ]
  },
  {
   "cell_type": "markdown",
   "metadata": {},
   "source": [
    "![grafo](https://i.imgur.com/VHaTzNp.png)\n",
    "\n",
    "Essa questão não tem muito segredo, é aplicação pura de método dos trapézios. Aproximamos uma função por um polinômio de grau 1, fazendo com que ele passe por dois pontos que definem o intervalo de integração. Desta forma, a integral é a área delimitada entre o polinômio e o eixo $x$ no intervalo $a,b$. Passei os dados fornecidos pela questão e apliquei o método."
   ]
  },
  {
   "cell_type": "code",
   "execution_count": 69,
   "metadata": {},
   "outputs": [
    {
     "data": {
      "text/plain": [
       "219567.5"
      ]
     },
     "metadata": {},
     "output_type": "display_data"
    }
   ],
   "source": [
    "LaMatrix = [ 0 10 15 20 32 59 62 125;\n",
    "          0 185 319 447 742 1325 1445 4151]\n",
    "\n",
    "xMatrix = LaMatrix[1,:]\n",
    "yMatrix = LaMatrix[2,:]\n",
    "\n",
    "auxIntegrar = 0\n",
    "  \n",
    "for i=1:length(xMatrix)-1\n",
    "  auxIntegrar = auxIntegrar + ((yMatrix[i+1] + yMatrix[i]) * (xMatrix[i+1] - xMatrix[i]))/2\n",
    "end\n",
    "\n",
    "alturaestimada = round(auxIntegrar, digits=3)"
   ]
  },
  {
   "cell_type": "markdown",
   "metadata": {},
   "source": [
    "A altura obtida foi de $219567.5$ pés."
   ]
  },
  {
   "cell_type": "markdown",
   "metadata": {},
   "source": [
    "##### b)\n"
   ]
  },
  {
   "cell_type": "markdown",
   "metadata": {},
   "source": [
    "![grafo](https://i.imgur.com/7omc1kL.png)"
   ]
  },
  {
   "cell_type": "markdown",
   "metadata": {},
   "source": [
    "Para que eu estimasse o erro máximo, eu precisaria saber a segunda derivada da função, pois assim saberíamos o valor máximo que ela pode obter. Tendo essa informação, a gente poderia calcular o $M$, consequentemente utilizá-lo na fórmula do erro."
   ]
  },
  {
   "cell_type": "markdown",
   "metadata": {},
   "source": [
    "##### c)"
   ]
  },
  {
   "cell_type": "markdown",
   "metadata": {},
   "source": [
    "As funções foram obtidas do professor, como visto em aula. Não julgo necessário reexplicar método de integração do trapézio ou interpolacão de vandermonde."
   ]
  },
  {
   "cell_type": "code",
   "execution_count": 70,
   "metadata": {},
   "outputs": [
    {
     "data": {
      "text/plain": [
       "vandermonde (generic function with 1 method)"
      ]
     },
     "metadata": {},
     "output_type": "display_data"
    }
   ],
   "source": [
    "function vandermonde(x,y,grau)\n",
    "  n,=size(y)\n",
    "  V=zeros(n,grau+1)\n",
    "  for i=1:n #linhas\n",
    "      for j=1:(grau+1)\n",
    "          V[i,j]=x[i]^(j-1)\n",
    "      end\n",
    "  end\n",
    "  return V\n",
    "end"
   ]
  },
  {
   "cell_type": "code",
   "execution_count": 71,
   "metadata": {},
   "outputs": [
    {
     "data": {
      "text/plain": [
       "trapezio (generic function with 1 method)"
      ]
     },
     "metadata": {},
     "output_type": "display_data"
    }
   ],
   "source": [
    "function trapezio(f,a,b,n) #calcular a integral f(x) de a até b\n",
    "  h=(b-a)/n\n",
    "  S=0.0\n",
    "  for i=1:(n-1)  #calcula o \"meio\"\n",
    "      x=a+i*h\n",
    "      S+=2*f(x)\n",
    "  end\n",
    "  S=h/2*(S+f(a)+f(b)) #calcula \"as pontas\"\n",
    "  return S\n",
    "end"
   ]
  },
  {
   "cell_type": "code",
   "execution_count": 72,
   "metadata": {},
   "outputs": [
    {
     "data": {
      "text/plain": [
       "224307.61"
      ]
     },
     "metadata": {},
     "output_type": "display_data"
    }
   ],
   "source": [
    "coeficientes = vandermonde(xMatrix,yMatrix,1)\\yMatrix\n",
    "f(x) = sum(coeficientes[i+1]x^i for i in 0:1)\n",
    "round((trapezio(f, 0, 125, 1000)), digits=2)"
   ]
  },
  {
   "cell_type": "markdown",
   "metadata": {},
   "source": [
    "# 3"
   ]
  },
  {
   "cell_type": "markdown",
   "metadata": {},
   "source": [
    "##### a)"
   ]
  },
  {
   "cell_type": "markdown",
   "metadata": {},
   "source": [
    "Nessa questão, eu fiz uma gambiarra para utilizar o método do trapézio sem necessitar de integral dupla: eu transformei a função do círculo na função do arco superior da circunferência. Peguei a função que tínhamos de método do trapézio, modificando o valor de h, já que a questão pediu. Vou chamar a atenção desse carinha, pois ao fixar o tamanho dos trapézios, isso afeta a nossa aproximação."
   ]
  },
  {
   "cell_type": "code",
   "execution_count": 73,
   "metadata": {},
   "outputs": [
    {
     "data": {
      "text/plain": [
       "trapezio3 (generic function with 1 method)"
      ]
     },
     "metadata": {},
     "output_type": "display_data"
    }
   ],
   "source": [
    "function trapezio3(f,a,b,n) #calcular a integral f(x) de a até b\n",
    "  h=0.1\n",
    "  S=0.0\n",
    "  for i=1:(n-1)  #calcula o \"meio\"\n",
    "      x=a+i*h\n",
    "      S+=2*f(x)\n",
    "  end\n",
    "  S=h/2*(S+f(a)+f(b)) #calcula \"as pontas\"\n",
    "  return S\n",
    "end"
   ]
  },
  {
   "cell_type": "markdown",
   "metadata": {},
   "source": [
    "Tive de criar uma função $funcArcoQuadrantesCima(x)$ para que apenas o domínio faça parte da função e não inclua valores em que a raiz quadrada seja negativa. Algo interessante a se notar é que, por mais que tenha pego uma função do arco superior da circunferência, ao me utilizar da função trapézio, eu tenho de mudar o domínio da integral para pegar apenas o primeiro quadrante."
   ]
  },
  {
   "cell_type": "code",
   "execution_count": 74,
   "metadata": {},
   "outputs": [
    {
     "data": {
      "text/plain": [
       "0.78"
      ]
     },
     "metadata": {},
     "output_type": "display_data"
    }
   ],
   "source": [
    "function funcArcoQuadrantesCima(x)\n",
    "  if (x >= -1 && x<=1)\n",
    "    return sqrt(1-(x^2))\n",
    "  end\n",
    "  return 0\n",
    "end\n",
    "\n",
    "arcoQuadrantesCima(x) = funcArcoQuadrantesCima(x)\n",
    "\n",
    "intregralQ1 = round((trapezio3(arcoQuadrantesCima, 0, 1, 10000)), digits=2)"
   ]
  },
  {
   "cell_type": "markdown",
   "metadata": {},
   "source": [
    "O valor da integral desse quadrante é aproximadamente 0.78, logo precisamos apenas multiplicar esse valor por 4 para obtermos a aproximação de Pi que queremos."
   ]
  },
  {
   "cell_type": "code",
   "execution_count": 75,
   "metadata": {},
   "outputs": [
    {
     "data": {
      "text/plain": [
       "3.12"
      ]
     },
     "metadata": {},
     "output_type": "display_data"
    }
   ],
   "source": [
    "piAprox = intregralQ1 * 4"
   ]
  },
  {
   "cell_type": "markdown",
   "metadata": {},
   "source": [
    "Talvez seja estranho não encontrar $3.14$, mas a culpa disso é unicamente por conta da altura que estabelecemos para os trapézios. Veja o que ocorre se utilizamos o método do trapézio sem a restrição da questão:"
   ]
  },
  {
   "cell_type": "code",
   "execution_count": 76,
   "metadata": {},
   "outputs": [
    {
     "data": {
      "text/plain": [
       "3.14"
      ]
     },
     "metadata": {},
     "output_type": "display_data"
    }
   ],
   "source": [
    "arco3(x) = primeiroQuadrante(x)\n",
    "\n",
    "piAprox = round((trapezio(arco3, 0, 1, 10000)*4), digits=2)"
   ]
  },
  {
   "cell_type": "markdown",
   "metadata": {},
   "source": [
    "##### b)"
   ]
  },
  {
   "cell_type": "markdown",
   "metadata": {},
   "source": [
    "Essa é bem simples de explicar, observe o que ocorre ao calcularmos a segunda derivada da função:\n",
    "\n",
    "$$\\left(\\sqrt{1-x^2}\\right)''\\:=-\\frac{1}{\\left(1-x^2\\right)\\sqrt{1-x^2}}$$\n",
    "\n",
    "O erro do trapezio é proporcional à segunda derivada em algum ponto no intervalo de integração. No entanto, a segunda derivada tem uma assintota vertical dentro desse intervalo, logo, não temos como limitar superiormente o erro do método, e isso significa que não podemos afirmar nada sobre ele."
   ]
  },
  {
   "cell_type": "markdown",
   "metadata": {},
   "source": [
    "$$-------------$$"
   ]
  },
  {
   "cell_type": "markdown",
   "metadata": {},
   "source": [
    "Estava com gastroenterite e bastante dor de cabeça esses dias, me poupei de fazer as bônus"
   ]
  }
 ],
 "metadata": {
  "kernelspec": {
   "display_name": "Julia 1.6.4",
   "language": "julia",
   "name": "julia-1.6"
  },
  "language_info": {
   "file_extension": ".jl",
   "mimetype": "application/julia",
   "name": "julia",
   "version": "1.6.4"
  },
  "orig_nbformat": 4
 },
 "nbformat": 4,
 "nbformat_minor": 2
}
